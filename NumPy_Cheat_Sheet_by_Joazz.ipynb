{
  "nbformat": 4,
  "nbformat_minor": 0,
  "metadata": {
    "colab": {
      "name": "NumPy Cheat Sheet by Joazz",
      "provenance": [],
      "authorship_tag": "ABX9TyMwuwoFY9+o/lJ072ehL6xg",
      "include_colab_link": true
    },
    "kernelspec": {
      "name": "python3",
      "display_name": "Python 3"
    }
  },
  "cells": [
    {
      "cell_type": "markdown",
      "metadata": {
        "id": "view-in-github",
        "colab_type": "text"
      },
      "source": [
        "<a href=\"https://colab.research.google.com/github/jdbritoff/data-science-studies/blob/master/NumPy_Cheat_Sheet_by_Joazz.ipynb\" target=\"_parent\"><img src=\"https://colab.research.google.com/assets/colab-badge.svg\" alt=\"Open In Colab\"/></a>"
      ]
    },
    {
      "cell_type": "markdown",
      "metadata": {
        "id": "7fwHVWxlqLlQ"
      },
      "source": [
        "# Numpy Cheat Sheet \n",
        "###by Joazz\n",
        "\n",
        "#-----------------------------------\n",
        "NumPy utilities compiled in one place.\n",
        "\n",
        "author: https://www.github.com/J0AZZ\n",
        "\n",
        "\n",
        "\n"
      ]
    },
    {
      "cell_type": "code",
      "metadata": {
        "id": "gmj3Hr3KqII3"
      },
      "source": [
        "# Import numpy and call it np\n",
        "import numpy as np\n"
      ],
      "execution_count": null,
      "outputs": []
    },
    {
      "cell_type": "markdown",
      "metadata": {
        "id": "RjRY9BX9yiB7"
      },
      "source": [
        "# ARRAYS"
      ]
    },
    {
      "cell_type": "code",
      "metadata": {
        "id": "kLOpGwbtGVmF"
      },
      "source": [
        "# CREATE\n",
        "#--------\n",
        "\n",
        "\n",
        "# create a filled with zeroes 3x1 integer array\n",
        "np.zeros(10, dtype=int)\n",
        "\n",
        "# create a filled with ones 3x5 floating-point array\n",
        "np.ones((3, 5), dtype=float)\n",
        "\n",
        "# create a 5x4 array filled with 3.14\n",
        "np.full((5, 4), 3.14)\n",
        "\n",
        "# create an array to store the iteration from 0 to 20 by 2\n",
        "np.arange(0, 20, 2)\n",
        "\n",
        "# create an array to store five values evenly spaced between 0 and one\n",
        "np.linspace(0, 1, 5)\n",
        "\n",
        "# create a 3x3 array of uniformly distributed random values between 0 and 1\n",
        "np.random.random((3, 3))\n",
        "\n",
        "# create a 3x3 array of normally distributed random values with mean 0 and standard deviation 1\n",
        "np.random.normal(0, 1, (3, 3))\n",
        "\n",
        "# create a 3x3 array of random integers in the interval [0, 10[ \n",
        "np.random.randint(0, 10, (3, 3))\n",
        "\n",
        "# 3x3 IDENTITY MATRIX\n",
        "np.eye(3)\n",
        "\n",
        "# seed for reproducibility\n",
        "np.random.seed(0)\n",
        "\n",
        "# create 1,2 and 3 dimensional vectors with random integers between 0 and 10\n",
        "d1 = np.random.randint(10, size=6)\n",
        "d1 = np.random.randint(10, size=(3, 4))\n",
        "d1 = np.random.randint(10, size=(3, 4, 5))"
      ],
      "execution_count": null,
      "outputs": []
    },
    {
      "cell_type": "code",
      "metadata": {
        "id": "uu4YSEoPGgQL"
      },
      "source": [
        "# INDEXING\n",
        "#----------\n",
        "\n",
        "\n",
        "# first item\n",
        "x1 = np.random.randint(0, 10, (10))\n",
        "x1[0]\n",
        "\n",
        "# multi-dimensional indexing\n",
        "x4 = np.random.randint(0, 10, (4, 4, 4, 4))\n",
        "x4[0, 3, 2, 1]\n",
        "\n",
        "# last item\n",
        "x1[-1]\n",
        "\n",
        "# change item at index (0, 0, 0, 0)\n",
        "x4[0, 0, 0, 0] = 0"
      ],
      "execution_count": null,
      "outputs": []
    },
    {
      "cell_type": "code",
      "metadata": {
        "id": "71J8tCtLymdZ"
      },
      "source": [
        "# SLICING\n",
        "#---------\n",
        "\n",
        "\n",
        "# slice over iteration\n",
        "start, stop, step = 0, 10, 2\n",
        "x[start:stop:step]\n",
        "\n",
        "# [0, 1, 2, 3, 4, 5, 6, 7, 8, 9]\n",
        "x = np.arange(10)\n",
        "\n",
        "# every other element, starting at index 1\n",
        "x[1::2]\n",
        "\n",
        "# reverse all elements\n",
        "x[::-1]\n",
        "\n",
        "# multidimensional slicing\n",
        "x2 = np.random.randint(0, 50, (3, 4))\n",
        "\n",
        "# 3 rows, 2 columns\n",
        "x2[:3, :2]\n",
        "\n",
        "# reverse first column\n",
        "x2[::-1, 0]"
      ],
      "execution_count": null,
      "outputs": []
    },
    {
      "cell_type": "code",
      "metadata": {
        "id": "FMnxjOQxHCpx"
      },
      "source": [
        "# BASIC MANIPULATION\n",
        "#--------------------\n",
        "\n",
        "\n",
        "# copy\n",
        "x2_sub = x2.copy()\n",
        "\n",
        "# reshaping\n",
        "grid = np.arange(0, 10).reshape((3, 3))\n",
        "\n",
        "# concatenation\n",
        "x = np.array([1, 2, 3])\n",
        "y = np.array([-1, -2, -3])\n",
        "z = np.array([0])\n",
        "np.concatenate([y, z, x])\n",
        "\n",
        "# split\n",
        "x = [1, 2, 3, 99, 99, 3, 2, 1]\n",
        "x1, x2, x3 = np.split(x, [3, 5])"
      ],
      "execution_count": null,
      "outputs": []
    },
    {
      "cell_type": "markdown",
      "metadata": {
        "id": "CqZYbar5F0Qj"
      },
    }
  ]
}
