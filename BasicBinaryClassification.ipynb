{
  "nbformat": 4,
  "nbformat_minor": 0,
  "metadata": {
    "colab": {
      "name": "BasicBinaryClassification.ipynb",
      "provenance": [],
      "authorship_tag": "ABX9TyPa82QyNIf7nf4CVJzTruSF",
      "include_colab_link": true
    },
    "kernelspec": {
      "name": "python3",
      "display_name": "Python 3"
    }
  },
  "cells": [
    {
      "cell_type": "markdown",
      "metadata": {
        "id": "view-in-github",
        "colab_type": "text"
      },
      "source": [
        "<a href=\"https://colab.research.google.com/github/J0AZZ/data-science-studies/blob/master/BasicBinaryClassification.ipynb\" target=\"_parent\"><img src=\"https://colab.research.google.com/assets/colab-badge.svg\" alt=\"Open In Colab\"/></a>"
      ]
    },
    {
      "cell_type": "markdown",
      "metadata": {
        "id": "aD7ZYYXCtBr6"
      },
      "source": [
        "# Student Classification\r\n",
        "### by J0AZZ\r\n",
        "### https://www.github.com/J0AZZ\r\n",
        "This exercise was designed in the first chapter of the book Practical Machine Learning with Python, whose dataset and notebooks are available by the author at https://github.com/dipanjanS/practical-machine-learning-with-python.\r\n",
        "\r\n",
        "The code below is a simple example and should not be considered as a solution to a real-world problem, given that we only tried to show some techniques used to solve this kind of issue, that is, a binary classification.\r\n",
        "\r\n",
        "Althought it was not mentioned in that book's section, a model is properly evaluated when exposed to unseen data. In order to understand the generalization capability of the model we splitted the (already escassy) dataset into training and testing sets, as a complementary exercise on the theme."
      ]
    },
    {
      "cell_type": "markdown",
      "metadata": {
        "id": "8VG3o1bl0cM_"
      },
      "source": [
        "#### Framework and Data"
      ]
    },
    {
      "cell_type": "code",
      "metadata": {
        "id": "6Jo7D19MfAiR",
        "colab": {
          "base_uri": "https://localhost:8080/",
          "height": 351
        },
        "outputId": "6849e234-327b-4a0d-de46-f62edf88cc2a"
      },
      "source": [
        "from sklearn.preprocessing import StandardScaler\r\n",
        "from sklearn.linear_model import LogisticRegression\r\n",
        "from sklearn.metrics import accuracy_score\r\n",
        "from sklearn.metrics import classification_report\r\n",
        "from sklearn.externals import joblib\r\n",
        "import os\r\n",
        "import pandas as pd\r\n",
        "import numpy as np\r\n",
        "\r\n",
        "df = pd.read_csv(\"https://raw.githubusercontent.com/dipanjanS/practical-machine-learning-with-python/master/notebooks/Ch01_Machine_Learning_Basics/student_records.csv\")\r\n",
        "df"
      ],
      "execution_count": 96,
      "outputs": [
        {
          "output_type": "stream",
          "text": [
            "/usr/local/lib/python3.6/dist-packages/sklearn/externals/joblib/__init__.py:15: FutureWarning: sklearn.externals.joblib is deprecated in 0.21 and will be removed in 0.23. Please import this functionality directly from joblib, which can be installed with: pip install joblib. If this warning is raised when loading pickled models, you may need to re-serialize those models with scikit-learn 0.21+.\n",
            "  warnings.warn(msg, category=FutureWarning)\n"
          ],
          "name": "stderr"
        },
        {
          "output_type": "execute_result",
          "data": {
            "text/html": [
              "<div>\n",
              "<style scoped>\n",
              "    .dataframe tbody tr th:only-of-type {\n",
              "        vertical-align: middle;\n",
              "    }\n",
              "\n",
              "    .dataframe tbody tr th {\n",
              "        vertical-align: top;\n",
              "    }\n",
              "\n",
              "    .dataframe thead th {\n",
              "        text-align: right;\n",
              "    }\n",
              "</style>\n",
              "<table border=\"1\" class=\"dataframe\">\n",
              "  <thead>\n",
              "    <tr style=\"text-align: right;\">\n",
              "      <th></th>\n",
              "      <th>Name</th>\n",
              "      <th>OverallGrade</th>\n",
              "      <th>Obedient</th>\n",
              "      <th>ResearchScore</th>\n",
              "      <th>ProjectScore</th>\n",
              "      <th>Recommend</th>\n",
              "    </tr>\n",
              "  </thead>\n",
              "  <tbody>\n",
              "    <tr>\n",
              "      <th>0</th>\n",
              "      <td>Henry</td>\n",
              "      <td>A</td>\n",
              "      <td>Y</td>\n",
              "      <td>90</td>\n",
              "      <td>85</td>\n",
              "      <td>Yes</td>\n",
              "    </tr>\n",
              "    <tr>\n",
              "      <th>1</th>\n",
              "      <td>John</td>\n",
              "      <td>C</td>\n",
              "      <td>N</td>\n",
              "      <td>85</td>\n",
              "      <td>51</td>\n",
              "      <td>Yes</td>\n",
              "    </tr>\n",
              "    <tr>\n",
              "      <th>2</th>\n",
              "      <td>David</td>\n",
              "      <td>F</td>\n",
              "      <td>N</td>\n",
              "      <td>10</td>\n",
              "      <td>17</td>\n",
              "      <td>No</td>\n",
              "    </tr>\n",
              "    <tr>\n",
              "      <th>3</th>\n",
              "      <td>Holmes</td>\n",
              "      <td>B</td>\n",
              "      <td>Y</td>\n",
              "      <td>75</td>\n",
              "      <td>71</td>\n",
              "      <td>No</td>\n",
              "    </tr>\n",
              "    <tr>\n",
              "      <th>4</th>\n",
              "      <td>Marvin</td>\n",
              "      <td>E</td>\n",
              "      <td>N</td>\n",
              "      <td>20</td>\n",
              "      <td>30</td>\n",
              "      <td>No</td>\n",
              "    </tr>\n",
              "    <tr>\n",
              "      <th>5</th>\n",
              "      <td>Simon</td>\n",
              "      <td>A</td>\n",
              "      <td>Y</td>\n",
              "      <td>92</td>\n",
              "      <td>79</td>\n",
              "      <td>Yes</td>\n",
              "    </tr>\n",
              "    <tr>\n",
              "      <th>6</th>\n",
              "      <td>Robert</td>\n",
              "      <td>B</td>\n",
              "      <td>Y</td>\n",
              "      <td>60</td>\n",
              "      <td>59</td>\n",
              "      <td>No</td>\n",
              "    </tr>\n",
              "    <tr>\n",
              "      <th>7</th>\n",
              "      <td>Trent</td>\n",
              "      <td>C</td>\n",
              "      <td>Y</td>\n",
              "      <td>75</td>\n",
              "      <td>33</td>\n",
              "      <td>No</td>\n",
              "    </tr>\n",
              "  </tbody>\n",
              "</table>\n",
              "</div>"
            ],
            "text/plain": [
              "     Name OverallGrade Obedient  ResearchScore  ProjectScore Recommend\n",
              "0   Henry            A        Y             90            85       Yes\n",
              "1    John            C        N             85            51       Yes\n",
              "2   David            F        N             10            17        No\n",
              "3  Holmes            B        Y             75            71        No\n",
              "4  Marvin            E        N             20            30        No\n",
              "5   Simon            A        Y             92            79       Yes\n",
              "6  Robert            B        Y             60            59        No\n",
              "7   Trent            C        Y             75            33        No"
            ]
          },
          "metadata": {
            "tags": []
          },
          "execution_count": 96
        }
      ]
    },
    {
      "cell_type": "markdown",
      "metadata": {
        "id": "v5mcq08q0pgo"
      },
      "source": [
        "#### Preprocessing"
      ]
    },
    {
      "cell_type": "code",
      "metadata": {
        "id": "9deR0HhNfj1B"
      },
      "source": [
        "feature_names = [\"OverallGrade\", \"Obedient\", \"ResearchScore\", \"ProjectScore\"]\r\n",
        "\r\n",
        "target = df[\"Recommend\"]\r\n",
        "features = df[feature_names]\r\n",
        "\r\n",
        "numerical_keys = [\"ResearchScore\", \"ProjectScore\"]\r\n",
        "categorical_keys = [\"OverallGrade\", \"Obedient\"]"
      ],
      "execution_count": 97,
      "outputs": []
    },
    {
      "cell_type": "code",
      "metadata": {
        "colab": {
          "base_uri": "https://localhost:8080/"
        },
        "id": "_ZQ_jR6blU1Z",
        "outputId": "2eeba529-d34d-44bc-80ba-5875990ec63a"
      },
      "source": [
        "# conditional attribution on (target==\"Yes\"): 1 for true, 0 for false\r\n",
        "target = np.where(target == \"Yes\", 1, 0)\r\n",
        "\r\n",
        "# scaling\r\n",
        "ss = StandardScaler()\r\n",
        "ss.fit(df[numerical_keys])\r\n",
        "features[numerical_keys] = ss.transform(df[numerical_keys])\r\n",
        "\r\n",
        "# one-hot encoding\r\n",
        "features = pd.get_dummies(features, columns=categorical_keys)"
      ],
      "execution_count": 98,
      "outputs": [
        {
          "output_type": "stream",
          "text": [
            "/usr/local/lib/python3.6/dist-packages/ipykernel_launcher.py:7: SettingWithCopyWarning: \n",
            "A value is trying to be set on a copy of a slice from a DataFrame.\n",
            "Try using .loc[row_indexer,col_indexer] = value instead\n",
            "\n",
            "See the caveats in the documentation: https://pandas.pydata.org/pandas-docs/stable/user_guide/indexing.html#returning-a-view-versus-a-copy\n",
            "  import sys\n",
            "/usr/local/lib/python3.6/dist-packages/pandas/core/indexing.py:1734: SettingWithCopyWarning: \n",
            "A value is trying to be set on a copy of a slice from a DataFrame.\n",
            "Try using .loc[row_indexer,col_indexer] = value instead\n",
            "\n",
            "See the caveats in the documentation: https://pandas.pydata.org/pandas-docs/stable/user_guide/indexing.html#returning-a-view-versus-a-copy\n",
            "  isetter(loc, value[:, i].tolist())\n"
          ],
          "name": "stderr"
        }
      ]
    },
    {
      "cell_type": "markdown",
      "metadata": {
        "id": "n1Uy7IAn002N"
      },
      "source": [
        "#### Training"
      ]
    },
    {
      "cell_type": "code",
      "metadata": {
        "id": "byqambyAxY77"
      },
      "source": [
        "# validation split\r\n",
        "test_target = target[5:]\r\n",
        "test_features = features[5:]\r\n",
        "\r\n",
        "# training split\r\n",
        "target = target[:5]\r\n",
        "features = features[:5]"
      ],
      "execution_count": 99,
      "outputs": []
    },
    {
      "cell_type": "code",
      "metadata": {
        "colab": {
          "base_uri": "https://localhost:8080/"
        },
        "id": "u-azfrhrpPs-",
        "outputId": "f86d1c86-b72b-48b4-a496-9d692a5dc4a2"
      },
      "source": [
        "lr = LogisticRegression()\r\n",
        "\r\n",
        "model = lr.fit(features, target)\r\n",
        "\r\n",
        "model"
      ],
      "execution_count": 100,
      "outputs": [
        {
          "output_type": "execute_result",
          "data": {
            "text/plain": [
              "LogisticRegression(C=1.0, class_weight=None, dual=False, fit_intercept=True,\n",
              "                   intercept_scaling=1, l1_ratio=None, max_iter=100,\n",
              "                   multi_class='auto', n_jobs=None, penalty='l2',\n",
              "                   random_state=None, solver='lbfgs', tol=0.0001, verbose=0,\n",
              "                   warm_start=False)"
            ]
          },
          "metadata": {
            "tags": []
          },
          "execution_count": 100
        }
      ]
    },
    {
      "cell_type": "markdown",
      "metadata": {
        "id": "8DkrD3Fo06yT"
      },
      "source": [
        "#### Evaluation"
      ]
    },
    {
      "cell_type": "code",
      "metadata": {
        "colab": {
          "base_uri": "https://localhost:8080/"
        },
        "id": "JAlbBX_FwHXh",
        "outputId": "aade60e7-03ad-470e-f544-cf45556327ce"
      },
      "source": [
        "predictions = model.predict(test_features)\r\n",
        "print(\"Accuracy: \", float(accuracy_score(test_target, predictions))*100, \"%\")\r\n",
        "print(\"Classification Stats: \\n\", classification_report(test_target, predictions))"
      ],
      "execution_count": 101,
      "outputs": [
        {
          "output_type": "stream",
          "text": [
            "Accuracy:  100.0 %\n",
            "Classification Stats: \n",
            "               precision    recall  f1-score   support\n",
            "\n",
            "           0       1.00      1.00      1.00         2\n",
            "           1       1.00      1.00      1.00         1\n",
            "\n",
            "    accuracy                           1.00         3\n",
            "   macro avg       1.00      1.00      1.00         3\n",
            "weighted avg       1.00      1.00      1.00         3\n",
            "\n"
          ],
          "name": "stdout"
        }
      ]
    },
    {
      "cell_type": "markdown",
      "metadata": {
        "id": "PWI6RTUO08_W"
      },
      "source": [
        "#### Deploy"
      ]
    },
    {
      "cell_type": "code",
      "metadata": {
        "colab": {
          "base_uri": "https://localhost:8080/"
        },
        "id": "N-91j3SetLSJ",
        "outputId": "be4e1c32-b5de-4243-f32d-edffe2f5fb7c"
      },
      "source": [
        "# to save and load the model and the scaler we need to run it on a local machine\r\n",
        "\r\n",
        "if not os.path.exists('Model'):\r\n",
        "  os.mkdir('Model')\r\n",
        "if not os.path.exists('Scaler'):\r\n",
        "  os.mkdir('Scaler')\r\n",
        "\r\n",
        "# create the files\r\n",
        "joblib.dump(model, r'Model/model.pickle')\r\n",
        "joblib.dump(ss, r'Scaler/scaler.pickle')\r\n",
        "\r\n",
        "# load the files\r\n",
        "model = joblib.load(r'Model/model.pickle')\r\n",
        "scaler = joblib.load(r'Scaler/scaler.pickle')"
      ],
      "execution_count": 102,
      "outputs": [
        {
          "output_type": "execute_result",
          "data": {
            "text/plain": [
              "['Scaler/scaler.pickle']"
            ]
          },
          "metadata": {
            "tags": []
          },
          "execution_count": 102
        }
      ]
    }
  ]
}