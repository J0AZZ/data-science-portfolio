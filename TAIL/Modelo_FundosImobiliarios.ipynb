{
  "nbformat": 4,
  "nbformat_minor": 0,
  "metadata": {
    "colab": {
      "name": "Modelo-FundosImobiliarios.ipynb",
      "provenance": [],
      "collapsed_sections": []
    },
    "kernelspec": {
      "name": "python3",
      "display_name": "Python 3"
    },
    "language_info": {
      "name": "python"
    }
  },
  "cells": [
    {
      "cell_type": "code",
      "metadata": {
        "id": "XwsuNnXYMtgr"
      },
      "source": [
        "import pandas as pd\n",
        "from sklearn.model_selection import train_test_split\n",
        "from sklearn.ensemble import RandomForestClassifier, RandomForestRegressor\n",
        "from sklearn.metrics import mean_squared_error, mean_absolute_error, precision_score, f1_score"
      ],
      "execution_count": 38,
      "outputs": []
    },
    {
      "cell_type": "code",
      "metadata": {
        "colab": {
          "base_uri": "https://localhost:8080/",
          "height": 464
        },
        "id": "ApkzGzm-M6yG",
        "outputId": "8fca0412-b27d-4e42-fc97-6aef30ba34e5"
      },
      "source": [
        "df = pd.read_csv(\"https://raw.githubusercontent.com/TailUFPB/fundos-imobiliarios/main/preprocessed_df.csv\")\n",
        "df = df.drop([\"Período\", \"Unnamed: 0\"], axis=1)\n",
        "df"
      ],
      "execution_count": 31,
      "outputs": [
        {
          "output_type": "execute_result",
          "data": {
            "text/html": [
              "<div>\n",
              "<style scoped>\n",
              "    .dataframe tbody tr th:only-of-type {\n",
              "        vertical-align: middle;\n",
              "    }\n",
              "\n",
              "    .dataframe tbody tr th {\n",
              "        vertical-align: top;\n",
              "    }\n",
              "\n",
              "    .dataframe thead th {\n",
              "        text-align: right;\n",
              "    }\n",
              "</style>\n",
              "<table border=\"1\" class=\"dataframe\">\n",
              "  <thead>\n",
              "    <tr style=\"text-align: right;\">\n",
              "      <th></th>\n",
              "      <th>Ativo</th>\n",
              "      <th>Nome</th>\n",
              "      <th>Dividendo</th>\n",
              "      <th>Dividend Yield</th>\n",
              "      <th>Variação Preço</th>\n",
              "      <th>Rentabilidade no Período</th>\n",
              "      <th>Rentabilidade Acumulada</th>\n",
              "      <th>Patrimônio Líquido</th>\n",
              "      <th>Valor Patrimonial</th>\n",
              "      <th>P/VPA</th>\n",
              "      <th>Vacância Física</th>\n",
              "    </tr>\n",
              "  </thead>\n",
              "  <tbody>\n",
              "    <tr>\n",
              "      <th>0</th>\n",
              "      <td>GWIR11</td>\n",
              "      <td>FII GWI RI</td>\n",
              "      <td>0.055168</td>\n",
              "      <td>0.441860</td>\n",
              "      <td>0.870095</td>\n",
              "      <td>0.868693</td>\n",
              "      <td>0.000000</td>\n",
              "      <td>0.025690</td>\n",
              "      <td>214.6766</td>\n",
              "      <td>0.757185</td>\n",
              "      <td>11.10</td>\n",
              "    </tr>\n",
              "    <tr>\n",
              "      <th>1</th>\n",
              "      <td>BNFS11</td>\n",
              "      <td>FII BANRISUL</td>\n",
              "      <td>0.032619</td>\n",
              "      <td>0.558140</td>\n",
              "      <td>0.537889</td>\n",
              "      <td>0.560802</td>\n",
              "      <td>0.580113</td>\n",
              "      <td>0.017705</td>\n",
              "      <td>94.7022</td>\n",
              "      <td>0.827051</td>\n",
              "      <td>11.10</td>\n",
              "    </tr>\n",
              "    <tr>\n",
              "      <th>2</th>\n",
              "      <td>THRA11B</td>\n",
              "      <td>FII BM THERA</td>\n",
              "      <td>0.000000</td>\n",
              "      <td>0.000000</td>\n",
              "      <td>0.479702</td>\n",
              "      <td>0.458603</td>\n",
              "      <td>0.600784</td>\n",
              "      <td>0.036745</td>\n",
              "      <td>70.4600</td>\n",
              "      <td>0.772803</td>\n",
              "      <td>11.10</td>\n",
              "    </tr>\n",
              "    <tr>\n",
              "      <th>3</th>\n",
              "      <td>TRNT11B</td>\n",
              "      <td>FII TORRE NO</td>\n",
              "      <td>0.032080</td>\n",
              "      <td>0.379845</td>\n",
              "      <td>0.529093</td>\n",
              "      <td>0.537516</td>\n",
              "      <td>0.315725</td>\n",
              "      <td>0.318996</td>\n",
              "      <td>167.5480</td>\n",
              "      <td>0.610475</td>\n",
              "      <td>11.10</td>\n",
              "    </tr>\n",
              "    <tr>\n",
              "      <th>4</th>\n",
              "      <td>MFII11</td>\n",
              "      <td>FII MERITO I</td>\n",
              "      <td>0.048169</td>\n",
              "      <td>0.860465</td>\n",
              "      <td>0.513532</td>\n",
              "      <td>0.562743</td>\n",
              "      <td>0.409484</td>\n",
              "      <td>0.004704</td>\n",
              "      <td>102.1100</td>\n",
              "      <td>0.699917</td>\n",
              "      <td>11.10</td>\n",
              "    </tr>\n",
              "    <tr>\n",
              "      <th>...</th>\n",
              "      <td>...</td>\n",
              "      <td>...</td>\n",
              "      <td>...</td>\n",
              "      <td>...</td>\n",
              "      <td>...</td>\n",
              "      <td>...</td>\n",
              "      <td>...</td>\n",
              "      <td>...</td>\n",
              "      <td>...</td>\n",
              "      <td>...</td>\n",
              "      <td>...</td>\n",
              "    </tr>\n",
              "    <tr>\n",
              "      <th>72</th>\n",
              "      <td>RDES11</td>\n",
              "      <td>FII RD ESCRI</td>\n",
              "      <td>0.007979</td>\n",
              "      <td>0.248062</td>\n",
              "      <td>0.422869</td>\n",
              "      <td>0.424968</td>\n",
              "      <td>0.079978</td>\n",
              "      <td>0.020172</td>\n",
              "      <td>95.8878</td>\n",
              "      <td>0.274261</td>\n",
              "      <td>50.53</td>\n",
              "    </tr>\n",
              "    <tr>\n",
              "      <th>73</th>\n",
              "      <td>SAAG11</td>\n",
              "      <td>FII SANT AGE</td>\n",
              "      <td>0.033759</td>\n",
              "      <td>0.558140</td>\n",
              "      <td>0.219215</td>\n",
              "      <td>0.255498</td>\n",
              "      <td>0.863145</td>\n",
              "      <td>0.247441</td>\n",
              "      <td>92.0800</td>\n",
              "      <td>0.921803</td>\n",
              "      <td>11.10</td>\n",
              "    </tr>\n",
              "    <tr>\n",
              "      <th>74</th>\n",
              "      <td>NSLU11B</td>\n",
              "      <td>FII LOURDES</td>\n",
              "      <td>0.062150</td>\n",
              "      <td>0.620155</td>\n",
              "      <td>0.428958</td>\n",
              "      <td>0.461837</td>\n",
              "      <td>0.469738</td>\n",
              "      <td>0.090507</td>\n",
              "      <td>183.0933</td>\n",
              "      <td>0.691691</td>\n",
              "      <td>11.10</td>\n",
              "    </tr>\n",
              "    <tr>\n",
              "      <th>75</th>\n",
              "      <td>AEFI11</td>\n",
              "      <td>FII AESAPAR</td>\n",
              "      <td>0.045287</td>\n",
              "      <td>0.651163</td>\n",
              "      <td>0.479026</td>\n",
              "      <td>0.512290</td>\n",
              "      <td>0.807079</td>\n",
              "      <td>0.034462</td>\n",
              "      <td>131.9325</td>\n",
              "      <td>0.654831</td>\n",
              "      <td>11.10</td>\n",
              "    </tr>\n",
              "    <tr>\n",
              "      <th>76</th>\n",
              "      <td>BCRI11</td>\n",
              "      <td>FII BEES CRI</td>\n",
              "      <td>0.048169</td>\n",
              "      <td>0.806202</td>\n",
              "      <td>0.543302</td>\n",
              "      <td>0.586675</td>\n",
              "      <td>0.785058</td>\n",
              "      <td>0.028706</td>\n",
              "      <td>95.9000</td>\n",
              "      <td>0.846522</td>\n",
              "      <td>11.10</td>\n",
              "    </tr>\n",
              "  </tbody>\n",
              "</table>\n",
              "<p>77 rows × 11 columns</p>\n",
              "</div>"
            ],
            "text/plain": [
              "      Ativo          Nome  ...     P/VPA  Vacância Física\n",
              "0    GWIR11    FII GWI RI  ...  0.757185            11.10\n",
              "1    BNFS11  FII BANRISUL  ...  0.827051            11.10\n",
              "2   THRA11B  FII BM THERA  ...  0.772803            11.10\n",
              "3   TRNT11B  FII TORRE NO  ...  0.610475            11.10\n",
              "4    MFII11  FII MERITO I  ...  0.699917            11.10\n",
              "..      ...           ...  ...       ...              ...\n",
              "72   RDES11  FII RD ESCRI  ...  0.274261            50.53\n",
              "73   SAAG11  FII SANT AGE  ...  0.921803            11.10\n",
              "74  NSLU11B   FII LOURDES  ...  0.691691            11.10\n",
              "75   AEFI11   FII AESAPAR  ...  0.654831            11.10\n",
              "76   BCRI11  FII BEES CRI  ...  0.846522            11.10\n",
              "\n",
              "[77 rows x 11 columns]"
            ]
          },
          "metadata": {
            "tags": []
          },
          "execution_count": 31
        }
      ]
    },
    {
      "cell_type": "markdown",
      "metadata": {
        "id": "SbRFZ7yZYqde"
      },
      "source": [
        "### Definindo uma Métrica para os FIIs\n",
        "\n",
        "Vamos definir uma métrica de avaliação que servirá como base para o desempenho do modelo, bem como uma métrica de risco. Tais métricas dependerão de fatores quantitativos relativos à viabilidade do fundo enquanto investimento.\n",
        "\n",
        "Podemos expressar o risco ou a viabilidade de um investimento ruim (tratando-se de FIIs) como uma combinação linear dos valores P/VPA, Vacância e Dividend Yield, que referem-se, respectivamente, ao quão caro está um fundo, o quanto deste patrimônio está ocioso em movimentações de compra e qual a distribuição de dividendos. Consideraremos, até então, que a viabilidade de um fundo imobiliário é inversamente proporcional aos valores:\n",
        "  - Vacância\n",
        "  - P/VPA\n",
        "\n",
        "e diretamente proporcional aos valores:\n",
        "  - Rentabilidade\n",
        "  - Dividend Yield\n",
        "\n",
        "Logo, temos uma métrica de referência para avaliar, mesmo que intuitivamente, a viabilidade de cada fundo imobiliário, dada por:\n",
        "\n",
        "M = (Rentabilidade * (Dividend Yield)) / (Vacância * P/VPA)"
      ]
    },
    {
      "cell_type": "code",
      "metadata": {
        "colab": {
          "base_uri": "https://localhost:8080/"
        },
        "id": "1ZPJ-YYcYqBi",
        "outputId": "17745285-a32a-4b73-efde-e501783a2efc"
      },
      "source": [
        "# for regression\n",
        "m = df[\"Rentabilidade no Período\"] + df[\"Dividend Yield\"] / (df[\"P/VPA\"] + df[\"Vacância Física\"])\n",
        "\n",
        "# for classification\n",
        "c = []\n",
        "for i in m:\n",
        "  if (i > 0.6): # crutial, take care when changing it\n",
        "    c.append(1)\n",
        "  else:\n",
        "    c.append(0)\n",
        "c = pd.Series(c)"
      ],
      "execution_count": 28,
      "outputs": [
        {
          "output_type": "execute_result",
          "data": {
            "text/plain": [
              "0     1\n",
              "1     1\n",
              "2     0\n",
              "3     0\n",
              "4     1\n",
              "     ..\n",
              "72    0\n",
              "73    0\n",
              "74    0\n",
              "75    0\n",
              "76    1\n",
              "Length: 77, dtype: int64"
            ]
          },
          "metadata": {
            "tags": []
          },
          "execution_count": 28
        }
      ]
    },
    {
      "cell_type": "code",
      "metadata": {
        "colab": {
          "base_uri": "https://localhost:8080/"
        },
        "id": "79jdnkpceUVP",
        "outputId": "1caaece7-fee9-49d1-b0e4-50dda2474211"
      },
      "source": [
        "X = df.drop([\"Ativo\", \"Nome\"], axis=1)\n",
        "y = m\n",
        "\n",
        "X_train, X_test, y_train, y_test = train_test_split(X, y)\n",
        "regressor = RandomForestRegressor().fit(X_train, y_train)\n",
        "preds = regressor.predict(X_test)\n",
        "\n",
        "print(\"R2 Score: \", regressor.score(X_test, y_test))\n",
        "print(\"MSE: \", mean_squared_error(y_test, preds))\n",
        "print(\"MAE: \", mean_absolute_error(y_test, preds))"
      ],
      "execution_count": 36,
      "outputs": [
        {
          "output_type": "stream",
          "text": [
            "R2 Score:  0.8705765296758019\n",
            "MSE:  0.006779039426033262\n",
            "MAE:  0.049250662103518396\n"
          ],
          "name": "stdout"
        }
      ]
    },
    {
      "cell_type": "code",
      "metadata": {
        "colab": {
          "base_uri": "https://localhost:8080/"
        },
        "id": "T2p5cSzMg9Bj",
        "outputId": "be960b37-dbce-49fa-82d5-f848fa23d3ab"
      },
      "source": [
        "y = c\n",
        "\n",
        "X_train, X_test, y_train, y_test = train_test_split(X, y)\n",
        "classifier = RandomForestClassifier().fit(X_train, y_train)\n",
        "preds = classifier.predict(X_test)\n",
        "\n",
        "print(\"Mean Accuracy: \", classifier.score(X_test, y_test))\n",
        "print(\"Precision: \", precision_score(y_test, preds))\n",
        "print(\"F1 Score: \", f1_score(y_test, preds))"
      ],
      "execution_count": 39,
      "outputs": [
        {
          "output_type": "stream",
          "text": [
            "Mean Accuracy:  0.95\n",
            "Precision:  1.0\n",
            "F1 Score:  0.6666666666666666\n"
          ],
          "name": "stdout"
        }
      ]
    },
    {
      "cell_type": "markdown",
      "metadata": {
        "id": "6fE5ogfif-0K"
      },
      "source": [
        "O modelo explicou bem a variabilidade dos dados, entretanto, uma métrica de avaliação determinada pelo programador deve sempre ser aprimorada. A métrica aqui desenvolvida foi necessária para que fosse possível seguir o paradigma de aprendizado supervisionado; possibilidades de melhoria do modelo incluem técnicas mais avançadas, que podem tornar desnecessária a prévia avaliação humana, ou uma métrica mais precisa e sensível a fatores qualitativos, o que pode tornar o modelo mais realista e robusto."
      ]
    }
  ]
}