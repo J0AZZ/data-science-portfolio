{
  "nbformat": 4,
  "nbformat_minor": 0,
  "metadata": {
    "colab": {
      "name": "audio-feature-extraction.ipynb",
      "provenance": []
    },
    "kernelspec": {
      "name": "python3",
      "display_name": "Python 3"
    },
    "language_info": {
      "name": "python"
    }
  },
  "cells": [
    {
      "cell_type": "markdown",
      "metadata": {
        "id": "XuvuMpVA8hbl"
      },
      "source": [
        "# Chromagram Extraction and Analysis\n",
        "### for chord recognition tasks"
      ]
    },
    {
      "cell_type": "code",
      "metadata": {
        "id": "1v4uHCb7vot0"
      },
      "source": [
        "import librosa, librosa.display\n",
        "import matplotlib.pyplot as plt\n",
        "import pandas as pd\n",
        "import numpy as np"
      ],
      "execution_count": 14,
      "outputs": []
    },
    {
      "cell_type": "markdown",
      "metadata": {
        "id": "8mPANMZ-Hx4p"
      },
      "source": [
        "## Util Informations\n",
        "\n",
        "### Model Evaluation\n",
        "For a Machine Learning based model, we have\n",
        "  CSR: Chord Symbol Recall and \n",
        "  CMR: Chord Match Recall\n",
        "\n",
        "### Processing Options\n",
        "\n",
        "Spectrum Optimization (temporal window application)\n",
        "  Bartlett,\n",
        "  Hann,\n",
        "  Kaiser\n",
        "\n",
        "Denoising/Whitening\n",
        "  using low pass filter"
      ]
    },
    {
      "cell_type": "code",
      "metadata": {
        "id": "LypHe3iaUlnd"
      },
      "source": [
        "# VARIABLES\n",
        "seconds = 5\n",
        "song_title = 'nutcracker'\n",
        "\n",
        "# get audio in a float point vector format, at 22050 Hz sampling rate\n",
        "audio, samp_rate = librosa.load(librosa.ex(song_title), duration=seconds, sr=None) # load 1min of an audio with sampling rate set to native\n",
        "\n",
        "# compute the Fast Fourier Transform (FFT)\n",
        "fhat = np.fft.fft(audio, samp_rate)\n",
        "\n",
        "# get Power Spectrum Density (PSD)\n",
        "PSD = fhat * np.conj(fhat)/samp_rate"
      ],
      "execution_count": 9,
      "outputs": []
    },
    {
      "cell_type": "code",
      "metadata": {
        "colab": {
          "base_uri": "https://localhost:8080/"
        },
        "id": "3So9Tx8M5JUX",
        "outputId": "6ddcdd28-dc22-4517-9b67-215ea0c1f9d6"
      },
      "source": [
        "# get chromagram with Bartlett window and Short Time Fourier Transform\n",
        "chroma = librosa.feature.chroma_stft(y=audio, sr=samp_rate, window=\"bartlett\")  # get chroma with bartlett window and short time fourier transform\n",
        "chroma"
      ],
      "execution_count": 10,
      "outputs": [
        {
          "output_type": "execute_result",
          "data": {
            "text/plain": [
              "array([[1.        , 0.9691573 , 0.75038505, ..., 0.04037511, 0.05225065,\n",
              "        0.21892062],\n",
              "       [0.67958623, 0.7353966 , 0.6104028 , ..., 0.1481413 , 0.1891561 ,\n",
              "        0.47507438],\n",
              "       [0.93435526, 1.        , 1.        , ..., 0.28896707, 0.36007687,\n",
              "        0.8354428 ],\n",
              "       ...,\n",
              "       [0.6621779 , 0.795174  , 0.6848035 , ..., 0.00483969, 0.0136094 ,\n",
              "        0.09213852],\n",
              "       [0.47203305, 0.6100945 , 0.8622968 , ..., 0.00596912, 0.01259233,\n",
              "        0.10611239],\n",
              "       [0.6841493 , 0.7191403 , 0.982753  , ..., 0.01764046, 0.01915073,\n",
              "        0.14035514]], dtype=float32)"
            ]
          },
          "metadata": {
            "tags": []
          },
          "execution_count": 10
        }
      ]
    },
    {
      "cell_type": "code",
      "metadata": {
        "colab": {
          "base_uri": "https://localhost:8080/",
          "height": 313
        },
        "id": "6jgV__v66SM_",
        "outputId": "71014fac-933a-414f-d7a7-5bd2c51c6872"
      },
      "source": [
        "# visualize chromagram\n",
        "fig, ax = plt.subplots()\n",
        "img = librosa.display.specshow(chroma, y_axis=\"chroma\", x_axis=\"time\", ax=ax)\n",
        "fig.colorbar(img, ax=ax)\n",
        "ax.set(title=\"Chromagram\")"
      ],
      "execution_count": 11,
      "outputs": [
        {
          "output_type": "execute_result",
          "data": {
            "text/plain": [
              "[Text(0.5, 1.0, 'Chromagram')]"
            ]
          },
          "metadata": {
            "tags": []
          },
          "execution_count": 11
        },
        {
          "output_type": "display_data",
          "data": {
            "image/png": "[encoded data removed]",
            "text/plain": [
              "<Figure size 432x288 with 2 Axes>"
            ]
          },
          "metadata": {
            "tags": [],
            "needs_background": "light"
          }
        }
      ]
    },
    {
      "cell_type": "code",
      "metadata": {
        "colab": {
          "base_uri": "https://localhost:8080/"
        },
        "id": "OORfm1cL9BRE",
        "outputId": "d2fcdac2-25cc-49c5-a668-67043f5e6bd5"
      },
      "source": [
        "# dataframe representation of chroma vectors\n",
        "c = pd.DataFrame(chroma)\n",
        "\n",
        "# time point and pitch\n",
        "t_bin, pitch = 0, 0\n",
        "\n",
        "# get pitch intensity at time t_bin\n",
        "c[t_bin][pitch]"
      ],
      "execution_count": 28,
      "outputs": [
        {
          "output_type": "execute_result",
          "data": {
            "text/plain": [
              "1.0"
            ]
          },
          "metadata": {
            "tags": []
          },
          "execution_count": 28
        }
      ]
    }
  ]
}