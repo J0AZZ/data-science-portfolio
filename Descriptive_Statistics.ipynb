{
  "nbformat": 4,
  "nbformat_minor": 0,
  "metadata": {
    "colab": {
      "name": "Descriptive Statistics.ipynb",
      "provenance": [],
      "toc_visible": true,
      "authorship_tag": "ABX9TyMRgjmGxlkEda/3PMq45i8O",
      "include_colab_link": true
    },
    "kernelspec": {
      "name": "python3",
      "display_name": "Python 3"
    }
  },
  "cells": [
    {
      "cell_type": "markdown",
      "metadata": {
        "id": "view-in-github",
        "colab_type": "text"
      },
      "source": [
        "<a href=\"https://colab.research.google.com/github/J0AZZ/data-science-studies/blob/master/Descriptive_Statistics.ipynb\" target=\"_parent\"><img src=\"https://colab.research.google.com/assets/colab-badge.svg\" alt=\"Open In Colab\"/></a>"
      ]
    },
    {
      "cell_type": "markdown",
      "metadata": {
        "id": "E7c4DXzXUgZ5"
      },
      "source": [
        "# Descriptive Statistics"
      ]
    },
    {
      "cell_type": "markdown",
      "metadata": {
        "id": "4oGEWXUKUlkL"
      },
      "source": [
        "## Central Tendency"
      ]
    },
    {
      "cell_type": "code",
      "metadata": {
        "id": "Ub4eAS83TsJB"
      },
      "source": [
        "# arithmetic mean\r\n",
        "def arithmeticMean(observations):\r\n",
        "  var = 0\r\n",
        "  for o in observations:\r\n",
        "    var += o\r\n",
        "  return var/len(observations)\r\n",
        "\r\n",
        "# geometric mean\r\n",
        "def geometricMean(observations):\r\n",
        "  var = 1\r\n",
        "  for o in observations:\r\n",
        "    var *= o\r\n",
        "  return var ** (1/float(len(observations)))\r\n",
        "\r\n",
        "# harmonic mean\r\n",
        "def harmonicMean(observations):\r\n",
        "  var = 1\r\n",
        "  for o in observations:\r\n",
        "    var *= 1/o\r\n",
        "  return var/len(observations)"
      ],
      "execution_count": null,
      "outputs": []
    },
    {
      "cell_type": "code",
      "metadata": {
        "id": "-SOo5L8GVoKc"
      },
      "source": [
        "# median\r\n",
        "def median(observations):\r\n",
        "  ordered = observations.sort()\r\n",
        "  n = len(observations)\r\n",
        "  if ((n % 2) == 0):\r\n",
        "    i = len(n)/2 \r\n",
        "    return (ordered[i-1] + ordered[i])/2\r\n",
        "  return ordered[ ((n-1)/2)-1 ]\r\n",
        "\r\n",
        "# quartiles\r\n",
        "def quartiles(observations)\r\n",
        "  ordered = observations.sort()\r\n",
        "  n = len(observations)\r\n",
        "  if ((n % 2) == 0):\r\n",
        "    return [ordered[(n/4)-1], ordered[(n*0.75)-1]]\r\n",
        "  return [ordered[((n-1)/4)-1], ordered[((n-1)*0.75)-1]]\r\n",
        "\r\n",
        "# interquartile range\r\n",
        "def interquartileRange(observations):\r\n",
        "  quartiles = quartiles(observations)\r\n",
        "  return (quartiles[1] - quartiles[0])\r\n",
        "\r\n",
        "# midhinge\r\n",
        "def midhinge(observations):\r\n",
        "  quartiles = quartiles(observations)\r\n",
        "  return (quartiles[1] + quartiles[0])/2\r\n",
        "\r\n",
        "# range\r\n",
        "def range(observations):\r\n",
        "  obs = observations.sort()\r\n",
        "  return (obs[len(obs)-1] - obs[0])"
      ],
      "execution_count": null,
      "outputs": []
    },
    {
      "cell_type": "code",
      "metadata": {
        "id": "VAJ5ZKukVqaG"
      },
      "source": [
        "from collections import Counter\r\n",
        "\r\n",
        "# mode\r\n",
        "def mode(observations):\r\n",
        "  occurrences = Counter(observations)\r\n",
        "  return occurrences.most_common(1)[0][0]"
      ],
      "execution_count": null,
      "outputs": []
    },
    {
      "cell_type": "markdown",
      "metadata": {
        "id": "KLfnVb51LB41"
      },
      "source": [
        "## Dispersion"
      ]
    },
    {
      "cell_type": "code",
      "metadata": {
        "id": "Rh593IhFVzB6"
      },
      "source": [
        "# standard deviation\r\n",
        "def stdDeviation(observations):\r\n",
        "  mean = arithmeticMean(observations)\r\n",
        "  var = 0\r\n",
        "  for o in observations:\r\n",
        "    var += ((o - mean)**2)\r\n",
        "  var /= (len(observations)-1)\r\n",
        "  return var**(0.5)\r\n",
        "\r\n",
        "# mean absolute deviation\r\n",
        "def meanAbsDeviation(observations):\r\n",
        "  mean = arithmeticMean(observations)\r\n",
        "  var = 0\r\n",
        "  for o in observations:\r\n",
        "    var += abs(o - mean)\r\n",
        "  return var/len(observations)\r\n",
        "\r\n",
        "# median absolute deviation\r\n",
        "def medianAbsDeviation(observations):\r\n",
        "  median = median(observations)\r\n",
        "  deviations = list()\r\n",
        "  for o in observations:\r\n",
        "    deviations.append(abs(o - median))\r\n",
        "  return median(deviations)\r\n",
        "\r\n",
        "# variance\r\n",
        "def variance(observations):\r\n",
        "  mean = arithmeticMean(observations)\r\n",
        "  var = 0\r\n",
        "  for o in observations:\r\n",
        "    var += (o - mean)**2\r\n",
        "  return var/(len(observations)-1)\r\n",
        "\r\n",
        "# coefficient of variation\r\n",
        "def coeffVariation(observations):\r\n",
        "  return 100*(stdDeviation(observations)/arithmeticMean(observations)"
      ],
      "execution_count": null,
      "outputs": []
    },
    {
      "cell_type": "markdown",
      "metadata": {
        "id": "Mzc82NaGpPeQ"
      },
      "source": [
        "## Shape"
      ]
    },
    {
      "cell_type": "code",
      "metadata": {
        "id": "YM3au_VYphOW"
      },
      "source": [
        "# rth central moments\r\n",
        "def centralMoment(observations, r):\r\n",
        "  mean = arithmeticMean(observations)\r\n",
        "  var = 0\r\n",
        "  for o in observations:\r\n",
        "    var += (o - mean)**r \r\n",
        "  return var/len(observations)\r\n",
        "\r\n",
        "# skewness\r\n",
        "def skewness(observations):\r\n",
        "  return centralMoment(observations, 3)/(centralMoment(2)**(1.75))\r\n",
        "  \r\n",
        "# kurtosis\r\n",
        "def kurtosis(observations):\r\n",
        "  return (centralMoment(observations, 4)/(centralMoment(observations, 2)**2))-3\r\n",
        "\r\n",
        "# outliers detected via Box Plot Limits\r\n",
        "def outliers(observations):\r\n",
        "  outliers = list()\r\n",
        "  iqr = interquartileChange(observations)\r\n",
        "  quartiles = quartiles(observation)\r\n",
        "  for o in observations:\r\n",
        "    if (o < quartiles[0]-(1.5*iqr) or o > quartiles[1]+(1.5*iqr)):\r\n",
        "      outliers.append(o)\r\n",
        "  return outliers.sort()"
      ],
      "execution_count": null,
      "outputs": []
    }
  ]
}