{
  "nbformat": 4,
  "nbformat_minor": 0,
  "metadata": {
    "kernelspec": {
      "display_name": "icd",
      "language": "python",
      "name": "icd"
    },
    "language_info": {
      "codemirror_mode": {
        "name": "ipython",
        "version": 3
      },
      "file_extension": ".py",
      "mimetype": "text/x-python",
      "name": "python",
      "nbconvert_exporter": "python",
      "pygments_lexer": "ipython3",
      "version": "3.7.7"
    },
    "colab": {
      "name": "Exercicio_j0azz-_Random.ipynb",
      "provenance": []
    }
  },
  "cells": [
    {
      "cell_type": "markdown",
      "metadata": {
        "id": "AVZHS7Xa5uJY"
      },
      "source": [
        "# Introdução à Ciência de Dados - UFPB\n",
        "Professor: Yuri Malheiros\n",
        "\n",
        "## Python - Random - Exercício"
      ]
    },
    {
      "cell_type": "markdown",
      "metadata": {
        "id": "bqJup-oQ5uKK"
      },
      "source": [
        "Implemente a função `generate_password` que deve gerar uma senha aleatória.\n",
        "\n",
        "A função tem tres parâmetros:\n",
        "\n",
        "- `n_chars` especifica o tamanho da senha gerada\n",
        "- `use_numbers` especifica se números podem ser usados na senha. Por padrão, esse parâmetro tem valor True\n",
        "- `use_special_chars` especifica se caracteres especiais, por exemplo !#%&@?, pode ser usados na senha. Por padrão, esse parâmetro tem valor True\n",
        "\n",
        "Note que se `use_numbers` e `use_special_chars` tiverem valor False, a senha terá apenas letras maiúsculas ou minúsculas."
      ]
    },
    {
      "cell_type": "code",
      "metadata": {
        "id": "2uz5dCrW_cmB"
      },
      "source": [
        "import string\r\n",
        "import secrets"
      ],
      "execution_count": 21,
      "outputs": []
    },
    {
      "cell_type": "code",
      "metadata": {
        "id": "ZsPe5wP95uKL"
      },
      "source": [
        "import random\n",
        "\n",
        "def generate_password(n_chars, use_numbers=True, use_special_chars=True):\n",
        "    if (use_numbers and not use_special_chars): # char + number\n",
        "      return ''.join(secrets.choice((string.ascii_letters+string.digits)) for i in range(n_chars)) \n",
        "    elif (use_special_chars and use_numbers):   # char + number + special\n",
        "      return ''.join(secrets.choice(string.ascii_letters+string.digits+string.punctuation) for i in range(n_chars)) \n",
        "    elif (use_special_chars and not use_numbers): # char + special\n",
        "      return ''.join(secrets.choice(string.ascii_letters+string.punctuation) for i in range(n_chars)) \n",
        "    return ''.join(secrets.choice(string.ascii_letters) for i in range(n_chars))  # char"
      ],
      "execution_count": 22,
      "outputs": []
    },
    {
      "cell_type": "code",
      "metadata": {
        "colab": {
          "base_uri": "https://localhost:8080/"
        },
        "id": "aWzyMuCB5uKM",
        "outputId": "285ea357-f548-4c23-8fca-2d6bbb5adb8c"
      },
      "source": [
        "print(generate_password(10))\n",
        "print(generate_password(10, use_numbers=False))\n",
        "print(generate_password(10, use_numbers=False, use_special_chars=False))"
      ],
      "execution_count": 23,
      "outputs": [
        {
          "output_type": "stream",
          "text": [
            "G)\\~IE{Wj{\n",
            "\"tTF\"\"x;&@\n",
            "dGQMYXghpd\n"
          ],
          "name": "stdout"
        }
      ]
    }
  ]
}