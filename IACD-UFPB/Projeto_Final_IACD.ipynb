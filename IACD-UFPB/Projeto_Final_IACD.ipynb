{
  "nbformat": 4,
  "nbformat_minor": 0,
  "metadata": {
    "colab": {
      "name": "Projeto Final-IACD.ipynb",
      "provenance": [],
      "collapsed_sections": []
    },
    "kernelspec": {
      "name": "python3",
      "display_name": "Python 3"
    },
    "language_info": {
      "name": "python"
    },
    "accelerator": "GPU"
  },
  "cells": [
    {
      "cell_type": "markdown",
      "metadata": {
        "id": "hkCCC2DIRn-B"
      },
      "source": [
        "# Detecção e Classificação de Conexões Maliciosas\n",
        "### Joás de Brito Ferreira Filho\n",
        "Projeto Final requerido na disciplina de Introdução à Ciência de Dados, ministrada na UFPB pelo professor Yuri Malheiros (https://github.com/yurimalheiros)\n",
        "\n",
        "Dataset obtido no endereço: https://www.kaggle.com/mrwellsdavid/unsw-nb15"
      ]
    },
    {
      "cell_type": "markdown",
      "metadata": {
        "id": "5L_6UZpKSpfw"
      },
      "source": [
        "### Requisitos do Sistema"
      ]
    },
    {
      "cell_type": "code",
      "metadata": {
        "id": "XNy7ukYJRW0b"
      },
      "source": [
        "# tools we will need\n",
        "import pandas as pd\n",
        "import sklearn as sk\n",
        "from sklearn.preprocessing import MinMaxScaler\n",
        "import sklearn.metrics\n",
        "from xgboost import XGBClassifier\n",
        "from sklearn.model_selection import cross_val_score, train_test_split\n",
        "from sklearn.multioutput import MultiOutputClassifier\n",
        "import pickle\n",
        "from google.colab import files"
      ],
      "execution_count": 47,
      "outputs": []
    },
    {
      "cell_type": "code",
      "metadata": {
        "id": "VY6UhZfXRe-E"
      },
      "source": [
        "# get the dataset\n",
        "df = pd.read_csv(\"https://raw.githubusercontent.com/J0AZZ/data-science_studies/master/IACD-UFPB/UNSW_NB15/UNSW_NB15_training-set.csv\")"
      ],
      "execution_count": 3,
      "outputs": []
    },
    {
      "cell_type": "markdown",
      "metadata": {
        "id": "TBZw7gk-Sswg"
      },
      "source": [
        "### Análise Exploratória dos Dados\n",
        "\n",
        "Esta seção introduz o problema por meio da análise exploratória dos dados e de visualizações relevantes."
      ]
    },
    {
      "cell_type": "markdown",
      "metadata": {
        "id": "u17UVh2sf7vF"
      },
      "source": [
        "O dataset foi gerado a partir da ferramenta `IXIA PerfectStorm`, na Cyber Range Lab of the Australian Centre for Cyber Security (`ACCS`) para discriminar conexões normais de conexões anormais. Dentre as conexões denominadas anormais, deve-se distingui-las entre os ataques cibernéticos contemporâneos; este dataset abrange nove diferentes tipos de ataque, além de apresentar outros atributos interessantes, a serem explorados nesta seção."
      ]
    },
    {
      "cell_type": "code",
      "metadata": {
        "colab": {
          "base_uri": "https://localhost:8080/",
          "height": 222
        },
        "id": "nunQsUrDf8uu",
        "outputId": "2ae9a1ee-94fc-4d45-8183-3fec22523ce2"
      },
      "source": [
        "# a first look at the data\n",
        "df.head()"
      ],
      "execution_count": 4,
      "outputs": [
        {
          "output_type": "execute_result",
          "data": {
            "text/html": [
              "<div>\n",
              "<style scoped>\n",
              "    .dataframe tbody tr th:only-of-type {\n",
              "        vertical-align: middle;\n",
              "    }\n",
              "\n",
              "    .dataframe tbody tr th {\n",
              "        vertical-align: top;\n",
              "    }\n",
              "\n",
              "    .dataframe thead th {\n",
              "        text-align: right;\n",
              "    }\n",
              "</style>\n",
              "<table border=\"1\" class=\"dataframe\">\n",
              "  <thead>\n",
              "    <tr style=\"text-align: right;\">\n",
              "      <th></th>\n",
              "      <th>id</th>\n",
              "      <th>dur</th>\n",
              "      <th>proto</th>\n",
              "      <th>service</th>\n",
              "      <th>state</th>\n",
              "      <th>spkts</th>\n",
              "      <th>dpkts</th>\n",
              "      <th>sbytes</th>\n",
              "      <th>dbytes</th>\n",
              "      <th>rate</th>\n",
              "      <th>sttl</th>\n",
              "      <th>dttl</th>\n",
              "      <th>sload</th>\n",
              "      <th>dload</th>\n",
              "      <th>sloss</th>\n",
              "      <th>dloss</th>\n",
              "      <th>sinpkt</th>\n",
              "      <th>dinpkt</th>\n",
              "      <th>sjit</th>\n",
              "      <th>djit</th>\n",
              "      <th>swin</th>\n",
              "      <th>stcpb</th>\n",
              "      <th>dtcpb</th>\n",
              "      <th>dwin</th>\n",
              "      <th>tcprtt</th>\n",
              "      <th>synack</th>\n",
              "      <th>ackdat</th>\n",
              "      <th>smean</th>\n",
              "      <th>dmean</th>\n",
              "      <th>trans_depth</th>\n",
              "      <th>response_body_len</th>\n",
              "      <th>ct_srv_src</th>\n",
              "      <th>ct_state_ttl</th>\n",
              "      <th>ct_dst_ltm</th>\n",
              "      <th>ct_src_dport_ltm</th>\n",
              "      <th>ct_dst_sport_ltm</th>\n",
              "      <th>ct_dst_src_ltm</th>\n",
              "      <th>is_ftp_login</th>\n",
              "      <th>ct_ftp_cmd</th>\n",
              "      <th>ct_flw_http_mthd</th>\n",
              "      <th>ct_src_ltm</th>\n",
              "      <th>ct_srv_dst</th>\n",
              "      <th>is_sm_ips_ports</th>\n",
              "      <th>attack_cat</th>\n",
              "      <th>label</th>\n",
              "    </tr>\n",
              "  </thead>\n",
              "  <tbody>\n",
              "    <tr>\n",
              "      <th>0</th>\n",
              "      <td>1</td>\n",
              "      <td>0.000011</td>\n",
              "      <td>udp</td>\n",
              "      <td>-</td>\n",
              "      <td>INT</td>\n",
              "      <td>2</td>\n",
              "      <td>0</td>\n",
              "      <td>496</td>\n",
              "      <td>0</td>\n",
              "      <td>90909.0902</td>\n",
              "      <td>254</td>\n",
              "      <td>0</td>\n",
              "      <td>180363632.0</td>\n",
              "      <td>0.0</td>\n",
              "      <td>0</td>\n",
              "      <td>0</td>\n",
              "      <td>0.011</td>\n",
              "      <td>0.0</td>\n",
              "      <td>0.0</td>\n",
              "      <td>0.0</td>\n",
              "      <td>0</td>\n",
              "      <td>0</td>\n",
              "      <td>0</td>\n",
              "      <td>0</td>\n",
              "      <td>0.0</td>\n",
              "      <td>0.0</td>\n",
              "      <td>0.0</td>\n",
              "      <td>248</td>\n",
              "      <td>0</td>\n",
              "      <td>0</td>\n",
              "      <td>0</td>\n",
              "      <td>2</td>\n",
              "      <td>2</td>\n",
              "      <td>1</td>\n",
              "      <td>1</td>\n",
              "      <td>1</td>\n",
              "      <td>2</td>\n",
              "      <td>0</td>\n",
              "      <td>0</td>\n",
              "      <td>0</td>\n",
              "      <td>1</td>\n",
              "      <td>2</td>\n",
              "      <td>0</td>\n",
              "      <td>Normal</td>\n",
              "      <td>0</td>\n",
              "    </tr>\n",
              "    <tr>\n",
              "      <th>1</th>\n",
              "      <td>2</td>\n",
              "      <td>0.000008</td>\n",
              "      <td>udp</td>\n",
              "      <td>-</td>\n",
              "      <td>INT</td>\n",
              "      <td>2</td>\n",
              "      <td>0</td>\n",
              "      <td>1762</td>\n",
              "      <td>0</td>\n",
              "      <td>125000.0003</td>\n",
              "      <td>254</td>\n",
              "      <td>0</td>\n",
              "      <td>881000000.0</td>\n",
              "      <td>0.0</td>\n",
              "      <td>0</td>\n",
              "      <td>0</td>\n",
              "      <td>0.008</td>\n",
              "      <td>0.0</td>\n",
              "      <td>0.0</td>\n",
              "      <td>0.0</td>\n",
              "      <td>0</td>\n",
              "      <td>0</td>\n",
              "      <td>0</td>\n",
              "      <td>0</td>\n",
              "      <td>0.0</td>\n",
              "      <td>0.0</td>\n",
              "      <td>0.0</td>\n",
              "      <td>881</td>\n",
              "      <td>0</td>\n",
              "      <td>0</td>\n",
              "      <td>0</td>\n",
              "      <td>2</td>\n",
              "      <td>2</td>\n",
              "      <td>1</td>\n",
              "      <td>1</td>\n",
              "      <td>1</td>\n",
              "      <td>2</td>\n",
              "      <td>0</td>\n",
              "      <td>0</td>\n",
              "      <td>0</td>\n",
              "      <td>1</td>\n",
              "      <td>2</td>\n",
              "      <td>0</td>\n",
              "      <td>Normal</td>\n",
              "      <td>0</td>\n",
              "    </tr>\n",
              "    <tr>\n",
              "      <th>2</th>\n",
              "      <td>3</td>\n",
              "      <td>0.000005</td>\n",
              "      <td>udp</td>\n",
              "      <td>-</td>\n",
              "      <td>INT</td>\n",
              "      <td>2</td>\n",
              "      <td>0</td>\n",
              "      <td>1068</td>\n",
              "      <td>0</td>\n",
              "      <td>200000.0051</td>\n",
              "      <td>254</td>\n",
              "      <td>0</td>\n",
              "      <td>854400000.0</td>\n",
              "      <td>0.0</td>\n",
              "      <td>0</td>\n",
              "      <td>0</td>\n",
              "      <td>0.005</td>\n",
              "      <td>0.0</td>\n",
              "      <td>0.0</td>\n",
              "      <td>0.0</td>\n",
              "      <td>0</td>\n",
              "      <td>0</td>\n",
              "      <td>0</td>\n",
              "      <td>0</td>\n",
              "      <td>0.0</td>\n",
              "      <td>0.0</td>\n",
              "      <td>0.0</td>\n",
              "      <td>534</td>\n",
              "      <td>0</td>\n",
              "      <td>0</td>\n",
              "      <td>0</td>\n",
              "      <td>3</td>\n",
              "      <td>2</td>\n",
              "      <td>1</td>\n",
              "      <td>1</td>\n",
              "      <td>1</td>\n",
              "      <td>3</td>\n",
              "      <td>0</td>\n",
              "      <td>0</td>\n",
              "      <td>0</td>\n",
              "      <td>1</td>\n",
              "      <td>3</td>\n",
              "      <td>0</td>\n",
              "      <td>Normal</td>\n",
              "      <td>0</td>\n",
              "    </tr>\n",
              "    <tr>\n",
              "      <th>3</th>\n",
              "      <td>4</td>\n",
              "      <td>0.000006</td>\n",
              "      <td>udp</td>\n",
              "      <td>-</td>\n",
              "      <td>INT</td>\n",
              "      <td>2</td>\n",
              "      <td>0</td>\n",
              "      <td>900</td>\n",
              "      <td>0</td>\n",
              "      <td>166666.6608</td>\n",
              "      <td>254</td>\n",
              "      <td>0</td>\n",
              "      <td>600000000.0</td>\n",
              "      <td>0.0</td>\n",
              "      <td>0</td>\n",
              "      <td>0</td>\n",
              "      <td>0.006</td>\n",
              "      <td>0.0</td>\n",
              "      <td>0.0</td>\n",
              "      <td>0.0</td>\n",
              "      <td>0</td>\n",
              "      <td>0</td>\n",
              "      <td>0</td>\n",
              "      <td>0</td>\n",
              "      <td>0.0</td>\n",
              "      <td>0.0</td>\n",
              "      <td>0.0</td>\n",
              "      <td>450</td>\n",
              "      <td>0</td>\n",
              "      <td>0</td>\n",
              "      <td>0</td>\n",
              "      <td>3</td>\n",
              "      <td>2</td>\n",
              "      <td>2</td>\n",
              "      <td>2</td>\n",
              "      <td>1</td>\n",
              "      <td>3</td>\n",
              "      <td>0</td>\n",
              "      <td>0</td>\n",
              "      <td>0</td>\n",
              "      <td>2</td>\n",
              "      <td>3</td>\n",
              "      <td>0</td>\n",
              "      <td>Normal</td>\n",
              "      <td>0</td>\n",
              "    </tr>\n",
              "    <tr>\n",
              "      <th>4</th>\n",
              "      <td>5</td>\n",
              "      <td>0.000010</td>\n",
              "      <td>udp</td>\n",
              "      <td>-</td>\n",
              "      <td>INT</td>\n",
              "      <td>2</td>\n",
              "      <td>0</td>\n",
              "      <td>2126</td>\n",
              "      <td>0</td>\n",
              "      <td>100000.0025</td>\n",
              "      <td>254</td>\n",
              "      <td>0</td>\n",
              "      <td>850400000.0</td>\n",
              "      <td>0.0</td>\n",
              "      <td>0</td>\n",
              "      <td>0</td>\n",
              "      <td>0.010</td>\n",
              "      <td>0.0</td>\n",
              "      <td>0.0</td>\n",
              "      <td>0.0</td>\n",
              "      <td>0</td>\n",
              "      <td>0</td>\n",
              "      <td>0</td>\n",
              "      <td>0</td>\n",
              "      <td>0.0</td>\n",
              "      <td>0.0</td>\n",
              "      <td>0.0</td>\n",
              "      <td>1063</td>\n",
              "      <td>0</td>\n",
              "      <td>0</td>\n",
              "      <td>0</td>\n",
              "      <td>3</td>\n",
              "      <td>2</td>\n",
              "      <td>2</td>\n",
              "      <td>2</td>\n",
              "      <td>1</td>\n",
              "      <td>3</td>\n",
              "      <td>0</td>\n",
              "      <td>0</td>\n",
              "      <td>0</td>\n",
              "      <td>2</td>\n",
              "      <td>3</td>\n",
              "      <td>0</td>\n",
              "      <td>Normal</td>\n",
              "      <td>0</td>\n",
              "    </tr>\n",
              "  </tbody>\n",
              "</table>\n",
              "</div>"
            ],
            "text/plain": [
              "   id       dur proto service  ... ct_srv_dst  is_sm_ips_ports  attack_cat  label\n",
              "0   1  0.000011   udp       -  ...          2                0      Normal      0\n",
              "1   2  0.000008   udp       -  ...          2                0      Normal      0\n",
              "2   3  0.000005   udp       -  ...          3                0      Normal      0\n",
              "3   4  0.000006   udp       -  ...          3                0      Normal      0\n",
              "4   5  0.000010   udp       -  ...          3                0      Normal      0\n",
              "\n",
              "[5 rows x 45 columns]"
            ]
          },
          "metadata": {
            "tags": []
          },
          "execution_count": 4
        }
      ]
    },
    {
      "cell_type": "markdown",
      "metadata": {
        "id": "baUpbxRGY--o"
      },
      "source": [
        "Devemos ter uma ideia geral da tipagem de cada coluna; além do mais, o comando `pd.DataFrame.info()` nos dá a contagem dos valores nulos, uma informação valiosa."
      ]
    },
    {
      "cell_type": "code",
      "metadata": {
        "colab": {
          "base_uri": "https://localhost:8080/"
        },
        "id": "tjAfPXOHS4oL",
        "outputId": "c71f9e8f-a89f-4443-9d39-6d2d1587bc6f"
      },
      "source": [
        "# dataset's general structure\n",
        "df.info()"
      ],
      "execution_count": 5,
      "outputs": [
        {
          "output_type": "stream",
          "text": [
            "<class 'pandas.core.frame.DataFrame'>\n",
            "RangeIndex: 82332 entries, 0 to 82331\n",
            "Data columns (total 45 columns):\n",
            " #   Column             Non-Null Count  Dtype  \n",
            "---  ------             --------------  -----  \n",
            " 0   id                 82332 non-null  int64  \n",
            " 1   dur                82332 non-null  float64\n",
            " 2   proto              82332 non-null  object \n",
            " 3   service            82332 non-null  object \n",
            " 4   state              82332 non-null  object \n",
            " 5   spkts              82332 non-null  int64  \n",
            " 6   dpkts              82332 non-null  int64  \n",
            " 7   sbytes             82332 non-null  int64  \n",
            " 8   dbytes             82332 non-null  int64  \n",
            " 9   rate               82332 non-null  float64\n",
            " 10  sttl               82332 non-null  int64  \n",
            " 11  dttl               82332 non-null  int64  \n",
            " 12  sload              82332 non-null  float64\n",
            " 13  dload              82332 non-null  float64\n",
            " 14  sloss              82332 non-null  int64  \n",
            " 15  dloss              82332 non-null  int64  \n",
            " 16  sinpkt             82332 non-null  float64\n",
            " 17  dinpkt             82332 non-null  float64\n",
            " 18  sjit               82332 non-null  float64\n",
            " 19  djit               82332 non-null  float64\n",
            " 20  swin               82332 non-null  int64  \n",
            " 21  stcpb              82332 non-null  int64  \n",
            " 22  dtcpb              82332 non-null  int64  \n",
            " 23  dwin               82332 non-null  int64  \n",
            " 24  tcprtt             82332 non-null  float64\n",
            " 25  synack             82332 non-null  float64\n",
            " 26  ackdat             82332 non-null  float64\n",
            " 27  smean              82332 non-null  int64  \n",
            " 28  dmean              82332 non-null  int64  \n",
            " 29  trans_depth        82332 non-null  int64  \n",
            " 30  response_body_len  82332 non-null  int64  \n",
            " 31  ct_srv_src         82332 non-null  int64  \n",
            " 32  ct_state_ttl       82332 non-null  int64  \n",
            " 33  ct_dst_ltm         82332 non-null  int64  \n",
            " 34  ct_src_dport_ltm   82332 non-null  int64  \n",
            " 35  ct_dst_sport_ltm   82332 non-null  int64  \n",
            " 36  ct_dst_src_ltm     82332 non-null  int64  \n",
            " 37  is_ftp_login       82332 non-null  int64  \n",
            " 38  ct_ftp_cmd         82332 non-null  int64  \n",
            " 39  ct_flw_http_mthd   82332 non-null  int64  \n",
            " 40  ct_src_ltm         82332 non-null  int64  \n",
            " 41  ct_srv_dst         82332 non-null  int64  \n",
            " 42  is_sm_ips_ports    82332 non-null  int64  \n",
            " 43  attack_cat         82332 non-null  object \n",
            " 44  label              82332 non-null  int64  \n",
            "dtypes: float64(11), int64(30), object(4)\n",
            "memory usage: 28.3+ MB\n"
          ],
          "name": "stdout"
        }
      ]
    },
    {
      "cell_type": "markdown",
      "metadata": {
        "id": "4LJMV9LWZj3Y"
      },
      "source": [
        "Verificaremos agora algumas estatísticas importantes, a saber, medidas de dispersão e centralidade. A partir destas informações podemos estudar o problema através de **visualizações**.\n",
        "\n",
        "As colunas exibidas referem-se, respectivamente, à duração da conexão, ao número de bytes transmitidos do servidor e ao número de bytes transmitidos do cliente."
      ]
    },
    {
      "cell_type": "code",
      "metadata": {
        "colab": {
          "base_uri": "https://localhost:8080/",
          "height": 294
        },
        "id": "lncbB-nKZ0tt",
        "outputId": "d0eb1b54-41d0-4a02-c1f8-98b2071342a4"
      },
      "source": [
        "# get summary statistics\n",
        "summary = df.describe()\n",
        "summary[['dur', 'sbytes', 'dbytes']]"
      ],
      "execution_count": 6,
      "outputs": [
        {
          "output_type": "execute_result",
          "data": {
            "text/html": [
              "<div>\n",
              "<style scoped>\n",
              "    .dataframe tbody tr th:only-of-type {\n",
              "        vertical-align: middle;\n",
              "    }\n",
              "\n",
              "    .dataframe tbody tr th {\n",
              "        vertical-align: top;\n",
              "    }\n",
              "\n",
              "    .dataframe thead th {\n",
              "        text-align: right;\n",
              "    }\n",
              "</style>\n",
              "<table border=\"1\" class=\"dataframe\">\n",
              "  <thead>\n",
              "    <tr style=\"text-align: right;\">\n",
              "      <th></th>\n",
              "      <th>dur</th>\n",
              "      <th>sbytes</th>\n",
              "      <th>dbytes</th>\n",
              "    </tr>\n",
              "  </thead>\n",
              "  <tbody>\n",
              "    <tr>\n",
              "      <th>count</th>\n",
              "      <td>82332.000000</td>\n",
              "      <td>8.233200e+04</td>\n",
              "      <td>8.233200e+04</td>\n",
              "    </tr>\n",
              "    <tr>\n",
              "      <th>mean</th>\n",
              "      <td>1.006756</td>\n",
              "      <td>7.993908e+03</td>\n",
              "      <td>1.323379e+04</td>\n",
              "    </tr>\n",
              "    <tr>\n",
              "      <th>std</th>\n",
              "      <td>4.710444</td>\n",
              "      <td>1.716423e+05</td>\n",
              "      <td>1.514715e+05</td>\n",
              "    </tr>\n",
              "    <tr>\n",
              "      <th>min</th>\n",
              "      <td>0.000000</td>\n",
              "      <td>2.400000e+01</td>\n",
              "      <td>0.000000e+00</td>\n",
              "    </tr>\n",
              "    <tr>\n",
              "      <th>25%</th>\n",
              "      <td>0.000008</td>\n",
              "      <td>1.140000e+02</td>\n",
              "      <td>0.000000e+00</td>\n",
              "    </tr>\n",
              "    <tr>\n",
              "      <th>50%</th>\n",
              "      <td>0.014138</td>\n",
              "      <td>5.340000e+02</td>\n",
              "      <td>1.780000e+02</td>\n",
              "    </tr>\n",
              "    <tr>\n",
              "      <th>75%</th>\n",
              "      <td>0.719360</td>\n",
              "      <td>1.280000e+03</td>\n",
              "      <td>9.560000e+02</td>\n",
              "    </tr>\n",
              "    <tr>\n",
              "      <th>max</th>\n",
              "      <td>59.999989</td>\n",
              "      <td>1.435577e+07</td>\n",
              "      <td>1.465753e+07</td>\n",
              "    </tr>\n",
              "  </tbody>\n",
              "</table>\n",
              "</div>"
            ],
            "text/plain": [
              "                dur        sbytes        dbytes\n",
              "count  82332.000000  8.233200e+04  8.233200e+04\n",
              "mean       1.006756  7.993908e+03  1.323379e+04\n",
              "std        4.710444  1.716423e+05  1.514715e+05\n",
              "min        0.000000  2.400000e+01  0.000000e+00\n",
              "25%        0.000008  1.140000e+02  0.000000e+00\n",
              "50%        0.014138  5.340000e+02  1.780000e+02\n",
              "75%        0.719360  1.280000e+03  9.560000e+02\n",
              "max       59.999989  1.435577e+07  1.465753e+07"
            ]
          },
          "metadata": {
            "tags": []
          },
          "execution_count": 6
        }
      ]
    },
    {
      "cell_type": "code",
      "metadata": {
        "colab": {
          "base_uri": "https://localhost:8080/",
          "height": 282
        },
        "id": "Z9JE_rixTBb_",
        "outputId": "c37e3159-dc08-44f9-bbff-37910083af50"
      },
      "source": [
        "# verify if the two main categories are imbalanced\n",
        "df['label'].value_counts()\n",
        "df['label'].hist()"
      ],
      "execution_count": 7,
      "outputs": [
        {
          "output_type": "execute_result",
          "data": {
            "text/plain": [
              "<matplotlib.axes._subplots.AxesSubplot at 0x7f110dbfd990>"
            ]
          },
          "metadata": {
            "tags": []
          },
          "execution_count": 7
        },
        {
          "output_type": "display_data",
          "data": {
            "image/png": "[encoded data removed]",
            "text/plain": [
              "<Figure size 432x288 with 1 Axes>"
            ]
          },
          "metadata": {
            "tags": [],
            "needs_background": "light"
          }
        }
      ]
    },
    {
      "cell_type": "markdown",
      "metadata": {
        "id": "KXChnutHh7Ac"
      },
      "source": [
        "A exploração de dados categóricos envolve um pouco mais de refinamento."
      ]
    },
    {
      "cell_type": "code",
      "metadata": {
        "colab": {
          "base_uri": "https://localhost:8080/",
          "height": 202
        },
        "id": "dNg4Q1BebbV-",
        "outputId": "fdf73da8-107d-461c-a053-24f17e76c84c"
      },
      "source": [
        "# get numerical columns\n",
        "numerical_cols = summary.keys()\n",
        "\n",
        "# get categorical data\n",
        "categorical_df = df.drop(numerical_cols, axis=1)\n",
        "categorical_df.head()"
      ],
      "execution_count": 8,
      "outputs": [
        {
          "output_type": "execute_result",
          "data": {
            "text/html": [
              "<div>\n",
              "<style scoped>\n",
              "    .dataframe tbody tr th:only-of-type {\n",
              "        vertical-align: middle;\n",
              "    }\n",
              "\n",
              "    .dataframe tbody tr th {\n",
              "        vertical-align: top;\n",
              "    }\n",
              "\n",
              "    .dataframe thead th {\n",
              "        text-align: right;\n",
              "    }\n",
              "</style>\n",
              "<table border=\"1\" class=\"dataframe\">\n",
              "  <thead>\n",
              "    <tr style=\"text-align: right;\">\n",
              "      <th></th>\n",
              "      <th>proto</th>\n",
              "      <th>service</th>\n",
              "      <th>state</th>\n",
              "      <th>attack_cat</th>\n",
              "    </tr>\n",
              "  </thead>\n",
              "  <tbody>\n",
              "    <tr>\n",
              "      <th>0</th>\n",
              "      <td>udp</td>\n",
              "      <td>-</td>\n",
              "      <td>INT</td>\n",
              "      <td>Normal</td>\n",
              "    </tr>\n",
              "    <tr>\n",
              "      <th>1</th>\n",
              "      <td>udp</td>\n",
              "      <td>-</td>\n",
              "      <td>INT</td>\n",
              "      <td>Normal</td>\n",
              "    </tr>\n",
              "    <tr>\n",
              "      <th>2</th>\n",
              "      <td>udp</td>\n",
              "      <td>-</td>\n",
              "      <td>INT</td>\n",
              "      <td>Normal</td>\n",
              "    </tr>\n",
              "    <tr>\n",
              "      <th>3</th>\n",
              "      <td>udp</td>\n",
              "      <td>-</td>\n",
              "      <td>INT</td>\n",
              "      <td>Normal</td>\n",
              "    </tr>\n",
              "    <tr>\n",
              "      <th>4</th>\n",
              "      <td>udp</td>\n",
              "      <td>-</td>\n",
              "      <td>INT</td>\n",
              "      <td>Normal</td>\n",
              "    </tr>\n",
              "  </tbody>\n",
              "</table>\n",
              "</div>"
            ],
            "text/plain": [
              "  proto service state attack_cat\n",
              "0   udp       -   INT     Normal\n",
              "1   udp       -   INT     Normal\n",
              "2   udp       -   INT     Normal\n",
              "3   udp       -   INT     Normal\n",
              "4   udp       -   INT     Normal"
            ]
          },
          "metadata": {
            "tags": []
          },
          "execution_count": 8
        }
      ]
    },
    {
      "cell_type": "code",
      "metadata": {
        "colab": {
          "base_uri": "https://localhost:8080/",
          "height": 171
        },
        "id": "QR7UmtgaiOvj",
        "outputId": "ccb22336-f446-4587-c303-19eeeaa63394"
      },
      "source": [
        "categorical_df.describe()"
      ],
      "execution_count": 9,
      "outputs": [
        {
          "output_type": "execute_result",
          "data": {
            "text/html": [
              "<div>\n",
              "<style scoped>\n",
              "    .dataframe tbody tr th:only-of-type {\n",
              "        vertical-align: middle;\n",
              "    }\n",
              "\n",
              "    .dataframe tbody tr th {\n",
              "        vertical-align: top;\n",
              "    }\n",
              "\n",
              "    .dataframe thead th {\n",
              "        text-align: right;\n",
              "    }\n",
              "</style>\n",
              "<table border=\"1\" class=\"dataframe\">\n",
              "  <thead>\n",
              "    <tr style=\"text-align: right;\">\n",
              "      <th></th>\n",
              "      <th>proto</th>\n",
              "      <th>service</th>\n",
              "      <th>state</th>\n",
              "      <th>attack_cat</th>\n",
              "    </tr>\n",
              "  </thead>\n",
              "  <tbody>\n",
              "    <tr>\n",
              "      <th>count</th>\n",
              "      <td>82332</td>\n",
              "      <td>82332</td>\n",
              "      <td>82332</td>\n",
              "      <td>82332</td>\n",
              "    </tr>\n",
              "    <tr>\n",
              "      <th>unique</th>\n",
              "      <td>131</td>\n",
              "      <td>13</td>\n",
              "      <td>7</td>\n",
              "      <td>10</td>\n",
              "    </tr>\n",
              "    <tr>\n",
              "      <th>top</th>\n",
              "      <td>tcp</td>\n",
              "      <td>-</td>\n",
              "      <td>FIN</td>\n",
              "      <td>Normal</td>\n",
              "    </tr>\n",
              "    <tr>\n",
              "      <th>freq</th>\n",
              "      <td>43095</td>\n",
              "      <td>47153</td>\n",
              "      <td>39339</td>\n",
              "      <td>37000</td>\n",
              "    </tr>\n",
              "  </tbody>\n",
              "</table>\n",
              "</div>"
            ],
            "text/plain": [
              "        proto service  state attack_cat\n",
              "count   82332   82332  82332      82332\n",
              "unique    131      13      7         10\n",
              "top       tcp       -    FIN     Normal\n",
              "freq    43095   47153  39339      37000"
            ]
          },
          "metadata": {
            "tags": []
          },
          "execution_count": 9
        }
      ]
    },
    {
      "cell_type": "markdown",
      "metadata": {
        "id": "SiVjyoarmLLd"
      },
      "source": [
        "Abaixo, as distribuições de frequência dos protocolos, serviços e tipos de ataque observados no dataset."
      ]
    },
    {
      "cell_type": "code",
      "metadata": {
        "colab": {
          "base_uri": "https://localhost:8080/",
          "height": 715
        },
        "id": "MpPh4s_yjbHE",
        "outputId": "7d5bdc07-dc0d-400e-c7ae-89ce30860b64"
      },
      "source": [
        "print(df['proto'].value_counts())\n",
        "categorical_df['proto'].hist(xrot=90, xlabelsize=10, figsize=(23, 7), bins=150, grid=False)"
      ],
      "execution_count": 10,
      "outputs": [
        {
          "output_type": "stream",
          "text": [
            "tcp     43095\n",
            "udp     29418\n",
            "unas     3515\n",
            "arp       987\n",
            "ospf      676\n",
            "        ...  \n",
            "gmtp       32\n",
            "visa       32\n",
            "micp       32\n",
            "ib         31\n",
            "igmp       30\n",
            "Name: proto, Length: 131, dtype: int64\n"
          ],
          "name": "stdout"
        },
        {
          "output_type": "execute_result",
          "data": {
            "text/plain": [
              "<matplotlib.axes._subplots.AxesSubplot at 0x7f110d3aa810>"
            ]
          },
          "metadata": {
            "tags": []
          },
          "execution_count": 10
        },
        {
          "output_type": "display_data",
          "data": {
            "image/png": "[encoded data removed]",
            "text/plain": [
              "<Figure size 1656x504 with 1 Axes>"
            ]
          },
          "metadata": {
            "tags": [],
            "needs_background": "light"
          }
        }
      ]
    },
    {
      "cell_type": "code",
      "metadata": {
        "colab": {
          "base_uri": "https://localhost:8080/",
          "height": 611
        },
        "id": "xfsLs_cCmWSw",
        "outputId": "8b5a5d0b-9607-4284-ad97-d31350b7adeb"
      },
      "source": [
        "print(df['service'].value_counts())\n",
        "categorical_df['service'].hist(xrot=45, bins=25, figsize=(10,5), grid=False)"
      ],
      "execution_count": 11,
      "outputs": [
        {
          "output_type": "stream",
          "text": [
            "-           47153\n",
            "dns         21367\n",
            "http         8287\n",
            "smtp         1851\n",
            "ftp          1552\n",
            "ftp-data     1396\n",
            "pop3          423\n",
            "ssh           204\n",
            "ssl            30\n",
            "snmp           29\n",
            "dhcp           26\n",
            "radius          9\n",
            "irc             5\n",
            "Name: service, dtype: int64\n"
          ],
          "name": "stdout"
        },
        {
          "output_type": "execute_result",
          "data": {
            "text/plain": [
              "<matplotlib.axes._subplots.AxesSubplot at 0x7f110c8bd9d0>"
            ]
          },
          "metadata": {
            "tags": []
          },
          "execution_count": 11
        },
        {
          "output_type": "display_data",
          "data": {
            "image/png": "[encoded data removed]",
            "text/plain": [
              "<Figure size 720x360 with 1 Axes>"
            ]
          },
          "metadata": {
            "tags": [],
            "needs_background": "light"
          }
        }
      ]
    },
    {
      "cell_type": "code",
      "metadata": {
        "colab": {
          "base_uri": "https://localhost:8080/",
          "height": 587
        },
        "id": "zrMyeeBrnA48",
        "outputId": "e0167f90-0432-418c-bfe4-59c9990397c6"
      },
      "source": [
        "print(df['attack_cat'].value_counts())\n",
        "categorical_df['attack_cat'].hist(xrot=45, grid=False, figsize=(10, 5), bins=40)"
      ],
      "execution_count": 12,
      "outputs": [
        {
          "output_type": "stream",
          "text": [
            "Normal            37000\n",
            "Generic           18871\n",
            "Exploits          11132\n",
            "Fuzzers            6062\n",
            "DoS                4089\n",
            "Reconnaissance     3496\n",
            "Analysis            677\n",
            "Backdoor            583\n",
            "Shellcode           378\n",
            "Worms                44\n",
            "Name: attack_cat, dtype: int64\n"
          ],
          "name": "stdout"
        },
        {
          "output_type": "execute_result",
          "data": {
            "text/plain": [
              "<matplotlib.axes._subplots.AxesSubplot at 0x7f111702b750>"
            ]
          },
          "metadata": {
            "tags": []
          },
          "execution_count": 12
        },
        {
          "output_type": "display_data",
          "data": {
            "image/png": "[encoded data removed]",
            "text/plain": [
              "<Figure size 720x360 with 1 Axes>"
            ]
          },
          "metadata": {
            "tags": [],
            "needs_background": "light"
          }
        }
      ]
    },
    {
      "cell_type": "markdown",
      "metadata": {
        "id": "YvZBlPMmusBz"
      },
      "source": [
        "Podemos relacionar os protocolos/serviços aos ataques, visualizando a frequência de ocorrência em cada uma das observações."
      ]
    },
    {
      "cell_type": "code",
      "metadata": {
        "id": "P3JqFLxatzJk"
      },
      "source": [
        "attacks = df[df['label']==1]"
      ],
      "execution_count": 13,
      "outputs": []
    },
    {
      "cell_type": "code",
      "metadata": {
        "colab": {
          "base_uri": "https://localhost:8080/",
          "height": 393
        },
        "id": "sqfCfBUTvn0V",
        "outputId": "230728b6-05a2-4744-8c45-e2ba394eed8d"
      },
      "source": [
        "# protocols\n",
        "attacks['proto'].hist(figsize=(23,5), xrot=90, bins=150, grid=False)"
      ],
      "execution_count": 14,
      "outputs": [
        {
          "output_type": "execute_result",
          "data": {
            "text/plain": [
              "<matplotlib.axes._subplots.AxesSubplot at 0x7f110c61bf10>"
            ]
          },
          "metadata": {
            "tags": []
          },
          "execution_count": 14
        },
        {
          "output_type": "display_data",
          "data": {
            "image/png": "[encoded data removed]",
            "text/plain": [
              "<Figure size 1656x360 with 1 Axes>"
            ]
          },
          "metadata": {
            "tags": [],
            "needs_background": "light"
          }
        }
      ]
    },
    {
      "cell_type": "code",
      "metadata": {
        "colab": {
          "base_uri": "https://localhost:8080/",
          "height": 308
        },
        "id": "kj6FrsqcvDmq",
        "outputId": "33141b43-03fd-4466-e587-078e760b0470"
      },
      "source": [
        "# services\n",
        "attacks['service'].hist(bins=40, xrot=45)"
      ],
      "execution_count": 15,
      "outputs": [
        {
          "output_type": "execute_result",
          "data": {
            "text/plain": [
              "<matplotlib.axes._subplots.AxesSubplot at 0x7f110c2eef10>"
            ]
          },
          "metadata": {
            "tags": []
          },
          "execution_count": 15
        },
        {
          "output_type": "display_data",
          "data": {
            "image/png": "[encoded data removed]",
            "text/plain": [
              "<Figure size 432x288 with 1 Axes>"
            ]
          },
          "metadata": {
            "tags": [],
            "needs_background": "light"
          }
        }
      ]
    },
    {
      "cell_type": "markdown",
      "metadata": {
        "id": "JVRica_QxFIF"
      },
      "source": [
        "### Pré-processamento dos Dados"
      ]
    },
    {
      "cell_type": "markdown",
      "metadata": {
        "id": "CP_D5-z8xW38"
      },
      "source": [
        "Para gerar um modelo que explique bem o problema, é preciso alimentar este modelo com um dataset limpo, isto é: \n",
        "- sem dados faltantes;\n",
        "- sem aberrações (dados de outro tipo, incoerentes, etc);\n",
        "- cujas colunas sejam relevantes para a resolução do problema.\n",
        "\n"
      ]
    },
    {
      "cell_type": "markdown",
      "metadata": {
        "id": "e6VXxUVG0P8g"
      },
      "source": [
        "Para o primeiro passo na limpeza dos dados, verificaremos valores faltantes em todas as colunas do dataset."
      ]
    },
    {
      "cell_type": "code",
      "metadata": {
        "colab": {
          "base_uri": "https://localhost:8080/"
        },
        "id": "PERFGcZBxJT-",
        "outputId": "e19aa893-e411-4953-fb88-1dfd32074cf3"
      },
      "source": [
        "total = 0\n",
        "for i in range(45):\n",
        "  total += df.iloc[:, i].isnull().sum()\n",
        "print(\"Total null values: \", total)"
      ],
      "execution_count": 16,
      "outputs": [
        {
          "output_type": "stream",
          "text": [
            "Total null values:  0\n"
          ],
          "name": "stdout"
        }
      ]
    },
    {
      "cell_type": "markdown",
      "metadata": {
        "id": "BuDkosl10Q0c"
      },
      "source": [
        "Utilizaremos, a princípio, apenas os atributos mais relevantes. As seguintes colunas foram selecionadas por se relacionarem intimamente com a natureza da conexão, segundo a literatura:\n",
        "`proto`, `service`, `dur`, `sbytes` e `dbytes`;\n",
        "\n",
        "De modo que refinaremos nossa seleção a partir das medidas de correlação com a coluna `label`, como segue:"
      ]
    },
    {
      "cell_type": "code",
      "metadata": {
        "colab": {
          "base_uri": "https://localhost:8080/"
        },
        "id": "9hbZ6HXS1Whs",
        "outputId": "94a51ae6-a99c-4bf9-98e3-97df10cec59a"
      },
      "source": [
        "corr = df.corr()\n",
        "relevant = corr['label'][abs(corr['label']) > .25]\n",
        "relevant#.keys()"
      ],
      "execution_count": 17,
      "outputs": [
        {
          "output_type": "execute_result",
          "data": {
            "text/plain": [
              "id                 -0.387489\n",
              "rate                0.328629\n",
              "sttl                0.504159\n",
              "dload              -0.280534\n",
              "swin               -0.414504\n",
              "stcpb              -0.281428\n",
              "dtcpb              -0.282860\n",
              "dwin               -0.369257\n",
              "ct_srv_src          0.290195\n",
              "ct_state_ttl        0.318517\n",
              "ct_dst_ltm          0.257995\n",
              "ct_src_dport_ltm    0.341513\n",
              "ct_dst_sport_ltm    0.393668\n",
              "ct_dst_src_ltm      0.279989\n",
              "ct_src_ltm          0.276494\n",
              "ct_srv_dst          0.292931\n",
              "label               1.000000\n",
              "Name: label, dtype: float64"
            ]
          },
          "metadata": {
            "tags": []
          },
          "execution_count": 17
        }
      ]
    },
    {
      "cell_type": "code",
      "metadata": {
        "id": "g5QpDXmW2TxL"
      },
      "source": [
        "attributes = list(relevant.keys())[1:-1] # do not include ID nor label\n",
        "for c in ['proto', 'service', 'dur', 'sbytes', 'dbytes']:\n",
        "  attributes.append(c)\n",
        "\n",
        "# take our new dataset by splitting up attributes and targets\n",
        "raw_X = df[attributes]\n",
        "raw_y_bin = df['label']\n",
        "raw_y_mul = df['attack_cat']"
      ],
      "execution_count": 18,
      "outputs": []
    },
    {
      "cell_type": "markdown",
      "metadata": {
        "id": "ZYVIz53EziiC"
      },
      "source": [
        "Desta forma, podemos começar o tratamento dos dados categóricos."
      ]
    },
    {
      "cell_type": "code",
      "metadata": {
        "id": "ua5k7l-L4IPF"
      },
      "source": [
        "# one-hot-encoding: categorical to numerical data\n",
        "cat2num = pd.get_dummies(raw_X[['proto', 'service']])"
      ],
      "execution_count": 19,
      "outputs": []
    },
    {
      "cell_type": "markdown",
      "metadata": {
        "id": "nDKRYtCD6Up7"
      },
      "source": [
        "Prosseguindo com a normalização dos dados numéricos."
      ]
    },
    {
      "cell_type": "code",
      "metadata": {
        "id": "j9zZCFXC6XwN"
      },
      "source": [
        "# normalizing: scale all the values to lie between 0 and 1\n",
        "normalized = pd.DataFrame(MinMaxScaler().fit_transform(raw_X.drop(['proto', 'service'], axis=1)))"
      ],
      "execution_count": 20,
      "outputs": []
    },
    {
      "cell_type": "markdown",
      "metadata": {
        "id": "ROoNFE-s8TZR"
      },
      "source": [
        "Finalmente, podemos utilizar os dados em um modelo. "
      ]
    },
    {
      "cell_type": "code",
      "metadata": {
        "id": "XiMqzOAc8bBv"
      },
      "source": [
        "X = pd.concat([cat2num, normalized], axis=1)\n",
        "y_mul = pd.get_dummies(df['attack_cat'])"
      ],
      "execution_count": 21,
      "outputs": []
    },
    {
      "cell_type": "code",
      "metadata": {
        "id": "cDf038JHO5r9"
      },
      "source": [
        "X.shape"
      ],
      "execution_count": null,
      "outputs": []
    },
    {
      "cell_type": "markdown",
      "metadata": {
        "id": "PCAI7K7N8PUI"
      },
      "source": [
        "### Construção e Avaliação do Modelo"
      ]
    },
    {
      "cell_type": "markdown",
      "metadata": {
        "id": "-pCCk29t83wL"
      },
      "source": [
        "Abordaremos este problema como uma classificação multiclasse (normal/`attack_cat`...). \n",
        "\n",
        "Utilizaremos o modelo Extreme Gradiente Boosting (XGBoost), por sua comprovada eficiência e usabilidade."
      ]
    },
    {
      "cell_type": "markdown",
      "metadata": {
        "id": "VNx1k2RVTzWm"
      },
      "source": [
        "Antes de alimentar o modelo, dividiremos o dataset em dois grupos, para que o modelo possa ser avaliado com exemplos que não foram usados no seu treinamento."
      ]
    },
    {
      "cell_type": "code",
      "metadata": {
        "id": "TfOBHcgkGfis"
      },
      "source": [
        "# training/validation\n",
        "X_train, X_test, y_train, y_test = train_test_split(X, y_mul)"
      ],
      "execution_count": 22,
      "outputs": []
    },
    {
      "cell_type": "markdown",
      "metadata": {
        "id": "iceQSoAPUVFY"
      },
      "source": [
        "Os parâmetros utilizados abaixo são, em teoria, indispensáveis na construção do classificador multiclasse; ainda assim, o a acurácia do modelo não mudou significativamente, como se pode verificar no que segue."
      ]
    },
    {
      "cell_type": "code",
      "metadata": {
        "id": "rhvwMaaH83Jq"
      },
      "source": [
        "# basic parameters to build the classifier\n",
        "params = {'objective': \"multi:softmax\", 'num_class': 10}\n",
        "xgbooster = XGBClassifier(**params)"
      ],
      "execution_count": 31,
      "outputs": []
    },
    {
      "cell_type": "code",
      "metadata": {
        "id": "3gFTiaTaOmBd"
      },
      "source": [
        "# sklearn provides multioutput, a tool that allows us to train a model for each class\n",
        "model = sk.multioutput.MultiOutputClassifier(xgbooster).fit(X_train, y_train) # run once, it might take a while (18min on colab GPU)"
      ],
      "execution_count": 32,
      "outputs": []
    },
    {
      "cell_type": "code",
      "metadata": {
        "id": "Eb9kj0TmYM3X"
      },
      "source": [
        "preds = model.predict(X_test)"
      ],
      "execution_count": 37,
      "outputs": []
    },
    {
      "cell_type": "code",
      "metadata": {
        "colab": {
          "base_uri": "https://localhost:8080/"
        },
        "id": "EJyNEP2vQ-SB",
        "outputId": "326ff954-4061-4165-df4f-827bc297ba0d"
      },
      "source": [
        "# score without params: 78.10 %\n",
        "# score with    params: 78.64 %\n",
        "\n",
        "# built-in score method\n",
        "print(\"Score: \", model.score(X_test, y_test)*100, \" %\")"
      ],
      "execution_count": 45,
      "outputs": [
        {
          "output_type": "stream",
          "text": [
            "Score:  78.64256911043094  %\n"
          ],
          "name": "stdout"
        }
      ]
    },
    {
      "cell_type": "code",
      "metadata": {
        "colab": {
          "base_uri": "https://localhost:8080/"
        },
        "id": "ycbuSmj7Xlpx",
        "outputId": "81a8d6a9-1c88-46ce-d128-10da6a470dea"
      },
      "source": [
        "# final classification report\n",
        "print(sklearn.metrics.classification_report(y_test, preds))"
      ],
      "execution_count": 44,
      "outputs": [
        {
          "output_type": "stream",
          "text": [
            "              precision    recall  f1-score   support\n",
            "\n",
            "           0       1.00      0.09      0.16       158\n",
            "           1       0.00      0.00      0.00       138\n",
            "           2       0.44      0.06      0.11      1011\n",
            "           3       0.83      0.54      0.65      2778\n",
            "           4       0.86      0.46      0.60      1550\n",
            "           5       1.00      0.96      0.98      4669\n",
            "           6       0.95      0.94      0.95      9335\n",
            "           7       0.95      0.77      0.85       845\n",
            "           8       0.69      0.12      0.21        88\n",
            "           9       1.00      0.36      0.53        11\n",
            "\n",
            "   micro avg       0.94      0.79      0.86     20583\n",
            "   macro avg       0.77      0.43      0.51     20583\n",
            "weighted avg       0.91      0.79      0.83     20583\n",
            " samples avg       0.79      0.79      0.79     20583\n",
            "\n"
          ],
          "name": "stdout"
        },
        {
          "output_type": "stream",
          "text": [
            "/usr/local/lib/python3.7/dist-packages/sklearn/metrics/_classification.py:1272: UndefinedMetricWarning: Precision and F-score are ill-defined and being set to 0.0 in labels with no predicted samples. Use `zero_division` parameter to control this behavior.\n",
            "  _warn_prf(average, modifier, msg_start, len(result))\n",
            "/usr/local/lib/python3.7/dist-packages/sklearn/metrics/_classification.py:1272: UndefinedMetricWarning: Precision and F-score are ill-defined and being set to 0.0 in samples with no predicted labels. Use `zero_division` parameter to control this behavior.\n",
            "  _warn_prf(average, modifier, msg_start, len(result))\n"
          ],
          "name": "stderr"
        }
      ]
    },
    {
      "cell_type": "code",
      "metadata": {
        "colab": {
          "base_uri": "https://localhost:8080/",
          "height": 16
        },
        "id": "L9OQi2SGdciN",
        "outputId": "36f7fc9e-840b-494f-9d92-e86c102815bd"
      },
      "source": [
        "# save the model\n",
        "dumped = pickle.dump(model, open('xgbooster_cyberattack-detector.pkl', 'wb'))\n",
        "files.download('xgbooster_cyberattack-detector.pkl')"
      ],
      "execution_count": 52,
      "outputs": [
        {
          "output_type": "display_data",
          "data": {
            "application/javascript": [
              "\n",
              "    async function download(id, filename, size) {\n",
              "      if (!google.colab.kernel.accessAllowed) {\n",
              "        return;\n",
              "      }\n",
              "      const div = document.createElement('div');\n",
              "      const label = document.createElement('label');\n",
              "      label.textContent = `Downloading \"${filename}\": `;\n",
              "      div.appendChild(label);\n",
              "      const progress = document.createElement('progress');\n",
              "      progress.max = size;\n",
              "      div.appendChild(progress);\n",
              "      document.body.appendChild(div);\n",
              "\n",
              "      const buffers = [];\n",
              "      let downloaded = 0;\n",
              "\n",
              "      const channel = await google.colab.kernel.comms.open(id);\n",
              "      // Send a message to notify the kernel that we're ready.\n",
              "      channel.send({})\n",
              "\n",
              "      for await (const message of channel.messages) {\n",
              "        // Send a message to notify the kernel that we're ready.\n",
              "        channel.send({})\n",
              "        if (message.buffers) {\n",
              "          for (const buffer of message.buffers) {\n",
              "            buffers.push(buffer);\n",
              "            downloaded += buffer.byteLength;\n",
              "            progress.value = downloaded;\n",
              "          }\n",
              "        }\n",
              "      }\n",
              "      const blob = new Blob(buffers, {type: 'application/binary'});\n",
              "      const a = document.createElement('a');\n",
              "      a.href = window.URL.createObjectURL(blob);\n",
              "      a.download = filename;\n",
              "      div.appendChild(a);\n",
              "      a.click();\n",
              "      div.remove();\n",
              "    }\n",
              "  "
            ],
            "text/plain": [
              "<IPython.core.display.Javascript object>"
            ]
          },
          "metadata": {
            "tags": []
          }
        },
        {
          "output_type": "display_data",
          "data": {
            "application/javascript": [
              "download(\"download_3acaba81-41c5-469e-868b-821849951b1e\", \"xgbooster_cyberattack-detector.pkl\", 2729120)"
            ],
            "text/plain": [
              "<IPython.core.display.Javascript object>"
            ]
          },
          "metadata": {
            "tags": []
          }
        }
      ]
    },
    {
      "cell_type": "markdown",
      "metadata": {
        "id": "qIKbhrclWZmZ"
      },
      "source": [
        "### Conclusão"
      ]
    },
    {
      "cell_type": "markdown",
      "metadata": {
        "id": "GymU4KXdWfRi"
      },
      "source": [
        "Um problema de natureza determinística, dados limpos e de manuseio simplificado, bem como um algoritmo eficaz como o XGBoost levaram a um resultado satisfatório frente a dados que o modelo nunca viu. \n",
        "\n",
        "Melhorias poderiam apontar na direção da extração e modelagem de atributos, bem como uma parametrização mais personalizada do classificador. A utilidade do modelo (diga-se, a relevância do problema) é indiscutível no mundo contemporâneo, com a segurança da informação sustentando de sistemas bancários até a privacidade de um cidadão. \n",
        "\n",
        "As implicações de um ataque que não foi detectado podem variar do roubo (de informações ou bens materiais) à ameaça da integridade física de alguém. A prevenção e detecção efetiva de ataques cibernéticos via rede constituem um aparato indispensável na manutenção da ordem dentro da sociedade moderna."
      ]
    }
  ]
}