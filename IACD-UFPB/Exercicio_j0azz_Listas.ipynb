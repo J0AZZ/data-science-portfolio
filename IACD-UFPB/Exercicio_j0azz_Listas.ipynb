{
  "nbformat": 4,
  "nbformat_minor": 0,
  "metadata": {
    "kernelspec": {
      "display_name": "icd",
      "language": "python",
      "name": "icd"
    },
    "language_info": {
      "codemirror_mode": {
        "name": "ipython",
        "version": 3
      },
      "file_extension": ".py",
      "mimetype": "text/x-python",
      "name": "python",
      "nbconvert_exporter": "python",
      "pygments_lexer": "ipython3",
      "version": "3.7.7"
    },
    "colab": {
      "name": "Exercise_J0AZZ-_Listas.ipynb",
      "provenance": [],
      "collapsed_sections": []
    }
  },
  "cells": [
    {
      "cell_type": "markdown",
      "metadata": {
        "id": "2dk-Ah67WQ_R"
      },
      "source": [
        "# Introdução à Ciência de Dados - UFPB\n",
        "Professor: Yuri Malheiros\n",
        "\n",
        "## Python - Listas - Exercício"
      ]
    },
    {
      "cell_type": "markdown",
      "metadata": {
        "id": "YAOhIZ7dWQ_y"
      },
      "source": [
        "Utilizando o resultado do processamento da lista de músicas, vamos implementar duas funções."
      ]
    },
    {
      "cell_type": "code",
      "metadata": {
        "id": "0zkZuzEsWQ_z"
      },
      "source": [
        "top_10 = [\"Tones and I - Dance Monkey\", \"Lady Gaga, Ariana Grande - Rain on Me\",\n",
        "          \"Justin Bieber - Yummy\", \"MISCHO - Photon Love\", \"Dua Lipa - Break My Heart\",\n",
        "          \"Lady Gaga, BLACKPINK - Sour Candy\", \"Dua Lipa - Don't Start Now\",\n",
        "          \"Justin Bieber, Quavo - Intentions\", \"Doja Cat - Say So\",\n",
        "          \"Karol G, Nicki Minaj - Tusa\", \"Benee, Gus Dapperton - Supalonely\"]"
      ],
      "execution_count": 224,
      "outputs": []
    },
    {
      "cell_type": "code",
      "metadata": {
        "colab": {
          "base_uri": "https://localhost:8080/"
        },
        "id": "iGlMhOv9WQ_0",
        "outputId": "cb012832-0ccb-4bf7-bb2c-3826d68c23da"
      },
      "source": [
        "top_10_dict = [{\"artist\": x.split(\" - \")[0], \"song\": x.split(\" - \")[1]} for x in top_10]\n",
        "top_10_dict"
      ],
      "execution_count": 225,
      "outputs": [
        {
          "output_type": "execute_result",
          "data": {
            "text/plain": [
              "[{'artist': 'Tones and I', 'song': 'Dance Monkey'},\n",
              " {'artist': 'Lady Gaga, Ariana Grande', 'song': 'Rain on Me'},\n",
              " {'artist': 'Justin Bieber', 'song': 'Yummy'},\n",
              " {'artist': 'MISCHO', 'song': 'Photon Love'},\n",
              " {'artist': 'Dua Lipa', 'song': 'Break My Heart'},\n",
              " {'artist': 'Lady Gaga, BLACKPINK', 'song': 'Sour Candy'},\n",
              " {'artist': 'Dua Lipa', 'song': \"Don't Start Now\"},\n",
              " {'artist': 'Justin Bieber, Quavo', 'song': 'Intentions'},\n",
              " {'artist': 'Doja Cat', 'song': 'Say So'},\n",
              " {'artist': 'Karol G, Nicki Minaj', 'song': 'Tusa'},\n",
              " {'artist': 'Benee, Gus Dapperton', 'song': 'Supalonely'}]"
            ]
          },
          "metadata": {
            "tags": []
          },
          "execution_count": 225
        }
      ]
    },
    {
      "cell_type": "markdown",
      "metadata": {
        "id": "LRVioReeWQ_1"
      },
      "source": [
        "As funções possuem um comentário de doctest que serve para testá-la. Por favor, não apague o comentário após a a definição da função.\n",
        "\n",
        "Você pode conferir se a implementação está correta executando a última célula deste notebook."
      ]
    },
    {
      "cell_type": "markdown",
      "metadata": {
        "id": "QZmkcx4mWQ_4"
      },
      "source": [
        "A função `get_songs` vai receber a lista `top_10_dict` como parâmetro. Escreva o código para que ela retorne uma lista com todas as músicas:"
      ]
    },
    {
      "cell_type": "code",
      "metadata": {
        "id": "bmsvzHs7WQ_4"
      },
      "source": [
        "def get_songs(music_dict):\n",
        "    \"\"\"\n",
        "    >>> get_songs(top_10_dict)\n",
        "    ['Dance Monkey', 'Rain on Me', 'Yummy', 'Photon Love', 'Break My Heart', 'Sour Candy', \"Don't Start Now\", 'Intentions', 'Say So', 'Tusa', 'Supalonely']\n",
        "    \"\"\"\n",
        "    return list({x['song']}.pop() for x in music_dict)\n",
        "    # ADICIONE O SEU CÓDIGO AQUI"
      ],
      "execution_count": 226,
      "outputs": []
    },
    {
      "cell_type": "code",
      "metadata": {
        "colab": {
          "base_uri": "https://localhost:8080/"
        },
        "id": "iVkVy6j5WQ_5",
        "outputId": "f1b558c0-d74c-4365-bb72-3689848b6d1b"
      },
      "source": [
        "get_songs(top_10_dict)"
      ],
      "execution_count": 227,
      "outputs": [
        {
          "output_type": "execute_result",
          "data": {
            "text/plain": [
              "['Dance Monkey',\n",
              " 'Rain on Me',\n",
              " 'Yummy',\n",
              " 'Photon Love',\n",
              " 'Break My Heart',\n",
              " 'Sour Candy',\n",
              " \"Don't Start Now\",\n",
              " 'Intentions',\n",
              " 'Say So',\n",
              " 'Tusa',\n",
              " 'Supalonely']"
            ]
          },
          "metadata": {
            "tags": []
          },
          "execution_count": 227
        }
      ]
    },
    {
      "cell_type": "markdown",
      "metadata": {
        "id": "tMhBGVi6WQ_6"
      },
      "source": [
        "A função `get_artists` vai receber a lista `top_10_dict` como parâmetro. Escreva o código para que ela retorne uma lista com todos os artistas. Atenção, algumas músicas possuem mais de um artista, eles são separados por vírgula. A função abaixo deve separar os artistas."
      ]
    },
    {
      "cell_type": "code",
      "metadata": {
        "id": "oRiIDVgIWQ_6"
      },
      "source": [
        "def get_artists(music_dict):\n",
        "    \"\"\"\n",
        "    >>> get_artists(top_10_dict)\n",
        "    ['Tones and I', 'Lady Gaga', 'Ariana Grande', 'Justin Bieber', 'MISCHO', 'Dua Lipa', 'Lady Gaga', 'BLACKPINK', 'Dua Lipa', 'Justin Bieber', 'Quavo', 'Doja Cat', 'Karol G', 'Nicki Minaj', 'Benee', 'Gus Dapperton']\n",
        "    \"\"\"\n",
        "    artists_by_song = [x['artist'] for x in music_dict]\n",
        "    artists = []\n",
        "    for a in artists_by_song:\n",
        "        l = a.split(', ')\n",
        "        for i in l:\n",
        "            artists.append(i)\n",
        "    return artists\n",
        "    # ADICIONE O SEU CÓDIGO AQUI    "
      ],
      "execution_count": 228,
      "outputs": []
    },
    {
      "cell_type": "code",
      "metadata": {
        "colab": {
          "base_uri": "https://localhost:8080/"
        },
        "id": "S2xcAMQzWQ_7",
        "outputId": "0d01eaad-2c93-4eae-96fb-32996c71406d"
      },
      "source": [
        "get_artists(top_10_dict)"
      ],
      "execution_count": 229,
      "outputs": [
        {
          "output_type": "execute_result",
          "data": {
            "text/plain": [
              "['Tones and I',\n",
              " 'Lady Gaga',\n",
              " 'Ariana Grande',\n",
              " 'Justin Bieber',\n",
              " 'MISCHO',\n",
              " 'Dua Lipa',\n",
              " 'Lady Gaga',\n",
              " 'BLACKPINK',\n",
              " 'Dua Lipa',\n",
              " 'Justin Bieber',\n",
              " 'Quavo',\n",
              " 'Doja Cat',\n",
              " 'Karol G',\n",
              " 'Nicki Minaj',\n",
              " 'Benee',\n",
              " 'Gus Dapperton']"
            ]
          },
          "metadata": {
            "tags": []
          },
          "execution_count": 229
        }
      ]
    },
    {
      "cell_type": "markdown",
      "metadata": {
        "id": "j_tN5OGGWQ_7"
      },
      "source": [
        "## Teste"
      ]
    },
    {
      "cell_type": "code",
      "metadata": {
        "colab": {
          "base_uri": "https://localhost:8080/"
        },
        "id": "SsDDmzjbWQ_8",
        "outputId": "2355e49d-db31-43be-a8fc-bb2df8e7bdb2"
      },
      "source": [
        "import doctest\n",
        "\n",
        "doctest.testmod(verbose=True)"
      ],
      "execution_count": 230,
      "outputs": [
        {
          "output_type": "stream",
          "text": [
            "Trying:\n",
            "    get_artists(top_10_dict)\n",
            "Expecting:\n",
            "    ['Tones and I', 'Lady Gaga', 'Ariana Grande', 'Justin Bieber', 'MISCHO', 'Dua Lipa', 'Lady Gaga', 'BLACKPINK', 'Dua Lipa', 'Justin Bieber', 'Quavo', 'Doja Cat', 'Karol G', 'Nicki Minaj', 'Benee', 'Gus Dapperton']\n",
            "ok\n",
            "Trying:\n",
            "    get_songs(top_10_dict)\n",
            "Expecting:\n",
            "    ['Dance Monkey', 'Rain on Me', 'Yummy', 'Photon Love', 'Break My Heart', 'Sour Candy', \"Don't Start Now\", 'Intentions', 'Say So', 'Tusa', 'Supalonely']\n",
            "ok\n",
            "1 items had no tests:\n",
            "    __main__\n",
            "2 items passed all tests:\n",
            "   1 tests in __main__.get_artists\n",
            "   1 tests in __main__.get_songs\n",
            "2 tests in 3 items.\n",
            "2 passed and 0 failed.\n",
            "Test passed.\n"
          ],
          "name": "stdout"
        },
        {
          "output_type": "execute_result",
          "data": {
            "text/plain": [
              "TestResults(failed=0, attempted=2)"
            ]
          },
          "metadata": {
            "tags": []
          },
          "execution_count": 230
        }
      ]
    }
  ]
}