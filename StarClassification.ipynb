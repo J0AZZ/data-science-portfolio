{
  "nbformat": 4,
  "nbformat_minor": 0,
  "metadata": {
    "colab": {
      "name": "StarClassification.ipynb",
      "provenance": [],
      "authorship_tag": "ABX9TyP3bYSoLIC2goIv5IoRxour",
      "include_colab_link": true
    },
    "kernelspec": {
      "name": "python3",
      "display_name": "Python 3"
    },
    "language_info": {
      "name": "python"
    }
  },
  "cells": [
    {
      "cell_type": "markdown",
      "metadata": {
        "id": "view-in-github",
        "colab_type": "text"
      },
      "source": [
        "<a href=\"https://colab.research.google.com/github/J0AZZ/data-science-studies/blob/master/StarClassification.ipynb\" target=\"_parent\"><img src=\"https://colab.research.google.com/assets/colab-badge.svg\" alt=\"Open In Colab\"/></a>"
      ]
    },
    {
      "cell_type": "code",
      "metadata": {
        "id": "gFHNYBzXQHyI"
      },
      "source": [
        "# data acquisition\n",
        "df = pd.read_csv(\"https://raw.githubusercontent.com/J0AZZ/artificial-intelligence_studies/master/artificial-intelligence_studies/introducao-ia-UFPB/Prova%201/Stars.csv\")\n",
        "df.info()\n",
        "print(\"\\n\\n\")\n",
        "\n",
        "# approaching categorical variables\n",
        "color_cat = pd.get_dummies(df[\"Color\"])\n",
        "spect_cat = pd.get_dummies(df[\"Spectral_Class\"])\n",
        "X = df[[\"Temperature\", \"L\", \"R\", \"A_M\"]]\n",
        "y = df[\"Type\"]\n",
        "X_normalized = (X-X.mean())/X.std()\n",
        "x = pd.concat(objs=[color_cat, spect_cat, X_normalized], axis=1)\n",
        "\n",
        "# splitting training and validation sets\n",
        "X_test, X_train = x.iloc[200:], x.iloc[:200] \n",
        "y_test, y_train = y.iloc[200:], y.iloc[:200]\n",
        "\n",
        "# model building with two different metrics and 5 values of k\n",
        "for metric in [\"manhattan\", \"euclidean\"]:\n",
        "  print(\"\\n\\nDistance Metric: \", metric, \"\\n\")\n",
        "  print(\"--------------------\")\n",
        "  for k in range(1,6):\n",
        "    knn = KNeighborsClassifier(n_neighbors=k, metric=metric)\n",
        "    knn.fit(X_train, y_train)\n",
        "    print(sk.metrics.classification_report(y_test, knn.predict(X_test)))\n",
        "    print(\"\\nk=\", k, \" Accuracy: \", knn.score(X_test, y_test)*100, \"%\")\n",
        "    print(\"Confusion Matrix:\\n\", sk.metrics.confusion_matrix(y_test, knn.predict(X_test)))\n",
        "  "
      ],
      "execution_count": null,
      "outputs": []
    }
  ]
}