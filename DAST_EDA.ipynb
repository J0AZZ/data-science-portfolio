{
  "cells": [
    {
      "cell_type": "markdown",
      "metadata": {
        "id": "view-in-github",
        "colab_type": "text"
      },
      "source": [
        "<a href=\"https://colab.research.google.com/github/j0azz/data-science-portfolio/blob/main/DAST_EDA.ipynb\" target=\"_parent\"><img src=\"https://colab.research.google.com/assets/colab-badge.svg\" alt=\"Open In Colab\"/></a>"
      ]
    },
    {
      "cell_type": "code",
      "execution_count": null,
      "metadata": {
        "id": "XJ01M_He9pDN"
      },
      "outputs": [],
      "source": [
        "import pandas as pd\n",
        "from google.colab import files\n",
        "\n",
        "uploaded = files.upload()\n",
        "\n",
        "#\n",
        "#data_url = \"https://git.sodexo.com.br/appsec-redteam/dast-reporting/-/raw/master/Detection_Report_sdex-jf_20240215.csv\"\n",
        "#df = pd.read_csv(data_url, on_bad_lines=\"warn\")\n",
        "#df = pd.DataFrame(uploaded)\n",
        "df = pd.read_csv(list(uploaded.keys())[0], header=None)\n",
        "df.head()\n",
        "\n",
        "def change_severity(value):\n",
        "  if(value==\"Confirmed Vulnerability - Level 5\" or value==\"Potential Vulnerability - Level 5\" or value==\"Confirmed Vulnerability - Level 3\"):\n",
        "    return \"CRITICAL\"\n",
        "  elif(value==\"Confirmed Vulnerability - Level 2\" or value==\"Potential Vulnerability - Level 4\"):\n",
        "    return \"HIGH\"\n",
        "  elif(value==\"Confirmed Vulnerability - Level 1\" or value==\"Potential Vulnerability - Level 2\" or value==\"Potential Vulnerability - Level 1\"):\n",
        "    return \"MEDIUM\"\n",
        "  elif(value==\"Information Gathered - Level 1\" or value==\"Information Gathered - Level 2\" or value==\"Information Gathered - Level 3\"):\n",
        "    return \"LOW\"\n"
      ]
    },
    {
      "cell_type": "code",
      "execution_count": null,
      "metadata": {
        "id": "4-aj70Lklm-6"
      },
      "outputs": [],
      "source": [
        "#vulns_found = pd.DataFrame(set(df.iloc[:,3]))\n",
        "vulns_found_full = pd.concat([df[4],df[3]], axis=1)\n",
        "#vulns_found_full.head()\n",
        "vulns_in_app_count = df[9].value_counts()\n",
        "\n",
        "vulns_in_app_count"
      ]
    },
    {
      "cell_type": "code",
      "execution_count": null,
      "metadata": {
        "id": "K6It-WR52M19"
      },
      "outputs": [],
      "source": [
        "# PLOT VULNERABILITIES BY SEVERITY\n",
        "severity = df[8].copy()\n",
        "severity.iloc[:] = severity.iloc[:].apply(change_severity)\n",
        "labels = severity.value_counts().index.to_list()\n",
        "sizes = severity.value_counts().to_list()\n",
        "fig, ax = plt.subplots()\n",
        "wedges, texts, autotexts = ax.pie(sizes, labels=labels, autopct=\"%1.1f%%\", startangle=-40, wedgeprops=dict(width=0.3))\n",
        "ax.set_title(\"DAST Vulnerabilities by Severity\")\n",
        "plt.show()"
      ]
    },
    {
      "cell_type": "code",
      "source": [
        "# PLOT VULNERABILITIES BY SEVERITY IN A SPECIFIC APP\n",
        "app_severity = df[df[9]==\"BRS-BR_sodexobeneficios.com.br/\"].copy()\n",
        "app_severity.iloc[:,8] = app_severity.iloc[:,8].apply(change_severity)\n",
        "\n",
        "labels = app_severity[8].value_counts().index.to_list()\n",
        "sizes = app_severity[8].value_counts().to_list()\n",
        "fig, ax = plt.subplots()\n",
        "wedges, texts, autotexts = ax.pie(sizes, labels=labels, autopct=\"%1.1f%%\", startangle=-40, wedgeprops=dict(width=0.3))\n",
        "ax.set_title(\"DAST Vulnerabilities by Severity\")\n",
        "plt.show()"
      ],
      "metadata": {
        "id": "MYBULJ5n951O"
      },
      "execution_count": null,
      "outputs": []
    },
    {
      "cell_type": "code",
      "execution_count": 7,
      "metadata": {
        "id": "bivB0tXHjC41"
      },
      "outputs": [],
      "source": [
        "# PREPARE DATA FOR PLOTTING\n",
        "import matplotlib.pyplot as plt\n",
        "\n",
        "apps_no_missing = []\n",
        "apps = []\n",
        "\n",
        "for app in vulns_in_app_count.keys():\n",
        "  dataframe_no_missing_values = df[(df[9]==app) & (df[0]!=\"'-\")].copy()\n",
        "  dataframe = df[df[9]==app].copy()\n",
        "  apps_no_missing.append([dataframe_no_missing_values,dataframe_no_missing_values[0].value_counts()])\n",
        "  apps.append([dataframe, 0,app])\n",
        "apps = apps[:-1]\n",
        "#apps_copy = apps.copy()\n",
        "#apps[0][0].iloc[:,0] = apps[0][0].iloc[:,0].replace(\"'-\", \"ACTIVE\")\n",
        "\n",
        "\n",
        "for i in range(len(apps)):\n",
        "  apps[i][0].iloc[:, 0] = apps[i][0].iloc[:, 0].apply(lambda x: \"ACTIVE\" if x == \"'-\" else x)\n",
        "  apps[i][1]=apps[i][0][0].value_counts()\n"
      ]
    },
    {
      "cell_type": "code",
      "execution_count": null,
      "metadata": {
        "id": "Qw9Lql7B4WPZ"
      },
      "outputs": [],
      "source": [
        "vulns_in_app_count.plot.barh(figsize=(10,10))\n",
        "plt.xlabel(\"Number of Vulnerabilities\")\n",
        "plt.ylabel(\"Application\")\n",
        "plt.title(\"Vulnerabilities by Application\")\n",
        "plt.show()\n"
      ]
    },
    {
      "cell_type": "code",
      "execution_count": null,
      "metadata": {
        "id": "BLMnEDKTJgJr"
      },
      "outputs": [],
      "source": [
        "df[3][1:].value_counts().plot.barh(figsize=(10,20))\n",
        "plt.xlabel(\"Number of Vulnerabilities\")\n",
        "plt.ylabel(\"Vulnerability\")\n",
        "plt.title(\"Vulnerabilities Distribution\")\n",
        "plt.show()\n"
      ]
    }
  ],
  "metadata": {
    "colab": {
      "provenance": [],
      "authorship_tag": "ABX9TyMsONWnumpMFmO2D+x95w+H",
      "include_colab_link": true
    },
    "kernelspec": {
      "display_name": "Python 3",
      "name": "python3"
    },
    "language_info": {
      "name": "python"
    }
  },
  "nbformat": 4,
  "nbformat_minor": 0
}